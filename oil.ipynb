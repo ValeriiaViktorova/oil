{
 "cells": [
  {
   "cell_type": "markdown",
   "metadata": {},
   "source": [
    "# Выбор локации для скважины"
   ]
  },
  {
   "cell_type": "markdown",
   "metadata": {},
   "source": [
    "Допустим, вы работаете в добывающей компании «ГлавРосГосНефть». Нужно решить, где бурить новую скважину.\n",
    "\n",
    "Вам предоставлены пробы нефти в трёх регионах: в каждом 10 000 месторождений, где измерили качество нефти и объём её запасов. Постройте модель машинного обучения, которая поможет определить регион, где добыча принесёт наибольшую прибыль. Проанализируйте возможную прибыль и риски техникой *Bootstrap.*\n",
    "\n",
    "Шаги для выбора локации:\n",
    "\n",
    "- В избранном регионе ищут месторождения, для каждого определяют значения признаков;\n",
    "- Строят модель и оценивают объём запасов;\n",
    "- Выбирают месторождения с самым высокими оценками значений. Количество месторождений зависит от бюджета компании и стоимости разработки одной скважины;\n",
    "- Прибыль равна суммарной прибыли отобранных месторождений."
   ]
  },
  {
   "cell_type": "markdown",
   "metadata": {},
   "source": [
    "**Условия задачи:**\n",
    "\n",
    "•\tДля обучения модели подходит только линейная регрессия (остальные — недостаточно предсказуемые).\n",
    "\n",
    "•\tПри разведке региона исследуют 500 точек, из которых с помощью машинного обучения выбирают 200 лучших для разработки.\n",
    "\n",
    "•\tБюджет на разработку скважин в регионе — 10 млрд рублей.\n",
    "\n",
    "•\tПри нынешних ценах один баррель сырья приносит 450 рублей дохода. Доход с каждой единицы продукта составляет 450 тыс. рублей, поскольку объём указан в тысячах баррелей.\n",
    "\n",
    "•\tПосле оценки рисков нужно оставить лишь те регионы, в которых вероятность убытков меньше 2.5%. Среди них выбирают регион с наибольшей средней прибылью.\n",
    "\n"
   ]
  },
  {
   "cell_type": "markdown",
   "metadata": {},
   "source": [
    "**Описание данных**\n",
    "\n",
    "\n",
    "•\tid — уникальный идентификатор скважины;\n",
    "\n",
    "•\tf0, f1, f2 — три признака точек;\n",
    "\n",
    "•\tproduct — объём запасов в скважине (тыс. баррелей).\n"
   ]
  },
  {
   "cell_type": "markdown",
   "metadata": {},
   "source": [
    "## Загрузка и подготовка данных"
   ]
  },
  {
   "cell_type": "code",
   "execution_count": 14,
   "metadata": {},
   "outputs": [],
   "source": [
    "#подключаем необходимые библиотеки для нашего проекта\n",
    "\n",
    "import pandas as pd\n",
    "pd.set_option('display.max_columns', 100)\n",
    "pd.set_option('display.max_rows', 100)\n",
    "import numpy as np\n",
    "import matplotlib.pyplot as plt\n",
    "%matplotlib inline\n",
    "import seaborn as sns\n",
    "import warnings\n",
    "warnings.filterwarnings('ignore')\n",
    "\n",
    "\n",
    "\n",
    "from sklearn.linear_model import LinearRegression\n",
    "from sklearn.model_selection import train_test_split\n",
    "from sklearn.metrics import mean_squared_error\n",
    "from scipy import stats as st\n",
    "from numpy.random import RandomState\n",
    "state = RandomState(12345)"
   ]
  },
  {
   "cell_type": "code",
   "execution_count": 15,
   "metadata": {},
   "outputs": [],
   "source": [
    "data0 = pd.read_csv('/datasets/geo_data_0.csv')\n",
    "data1 = pd.read_csv('/datasets/geo_data_1.csv')\n",
    "data2 = pd.read_csv('/datasets/geo_data_2.csv')"
   ]
  },
  {
   "cell_type": "code",
   "execution_count": 3,
   "metadata": {},
   "outputs": [
    {
     "data": {
      "text/html": [
       "<div>\n",
       "<style scoped>\n",
       "    .dataframe tbody tr th:only-of-type {\n",
       "        vertical-align: middle;\n",
       "    }\n",
       "\n",
       "    .dataframe tbody tr th {\n",
       "        vertical-align: top;\n",
       "    }\n",
       "\n",
       "    .dataframe thead th {\n",
       "        text-align: right;\n",
       "    }\n",
       "</style>\n",
       "<table border=\"1\" class=\"dataframe\">\n",
       "  <thead>\n",
       "    <tr style=\"text-align: right;\">\n",
       "      <th></th>\n",
       "      <th>id</th>\n",
       "      <th>f0</th>\n",
       "      <th>f1</th>\n",
       "      <th>f2</th>\n",
       "      <th>product</th>\n",
       "    </tr>\n",
       "  </thead>\n",
       "  <tbody>\n",
       "    <tr>\n",
       "      <td>0</td>\n",
       "      <td>txEyH</td>\n",
       "      <td>0.705745</td>\n",
       "      <td>-0.497823</td>\n",
       "      <td>1.221170</td>\n",
       "      <td>105.280062</td>\n",
       "    </tr>\n",
       "    <tr>\n",
       "      <td>1</td>\n",
       "      <td>2acmU</td>\n",
       "      <td>1.334711</td>\n",
       "      <td>-0.340164</td>\n",
       "      <td>4.365080</td>\n",
       "      <td>73.037750</td>\n",
       "    </tr>\n",
       "    <tr>\n",
       "      <td>2</td>\n",
       "      <td>409Wp</td>\n",
       "      <td>1.022732</td>\n",
       "      <td>0.151990</td>\n",
       "      <td>1.419926</td>\n",
       "      <td>85.265647</td>\n",
       "    </tr>\n",
       "    <tr>\n",
       "      <td>3</td>\n",
       "      <td>iJLyR</td>\n",
       "      <td>-0.032172</td>\n",
       "      <td>0.139033</td>\n",
       "      <td>2.978566</td>\n",
       "      <td>168.620776</td>\n",
       "    </tr>\n",
       "    <tr>\n",
       "      <td>4</td>\n",
       "      <td>Xdl7t</td>\n",
       "      <td>1.988431</td>\n",
       "      <td>0.155413</td>\n",
       "      <td>4.751769</td>\n",
       "      <td>154.036647</td>\n",
       "    </tr>\n",
       "  </tbody>\n",
       "</table>\n",
       "</div>"
      ],
      "text/plain": [
       "      id        f0        f1        f2     product\n",
       "0  txEyH  0.705745 -0.497823  1.221170  105.280062\n",
       "1  2acmU  1.334711 -0.340164  4.365080   73.037750\n",
       "2  409Wp  1.022732  0.151990  1.419926   85.265647\n",
       "3  iJLyR -0.032172  0.139033  2.978566  168.620776\n",
       "4  Xdl7t  1.988431  0.155413  4.751769  154.036647"
      ]
     },
     "metadata": {},
     "output_type": "display_data"
    },
    {
     "data": {
      "text/html": [
       "<div>\n",
       "<style scoped>\n",
       "    .dataframe tbody tr th:only-of-type {\n",
       "        vertical-align: middle;\n",
       "    }\n",
       "\n",
       "    .dataframe tbody tr th {\n",
       "        vertical-align: top;\n",
       "    }\n",
       "\n",
       "    .dataframe thead th {\n",
       "        text-align: right;\n",
       "    }\n",
       "</style>\n",
       "<table border=\"1\" class=\"dataframe\">\n",
       "  <thead>\n",
       "    <tr style=\"text-align: right;\">\n",
       "      <th></th>\n",
       "      <th>id</th>\n",
       "      <th>f0</th>\n",
       "      <th>f1</th>\n",
       "      <th>f2</th>\n",
       "      <th>product</th>\n",
       "    </tr>\n",
       "  </thead>\n",
       "  <tbody>\n",
       "    <tr>\n",
       "      <td>0</td>\n",
       "      <td>kBEdx</td>\n",
       "      <td>-15.001348</td>\n",
       "      <td>-8.276000</td>\n",
       "      <td>-0.005876</td>\n",
       "      <td>3.179103</td>\n",
       "    </tr>\n",
       "    <tr>\n",
       "      <td>1</td>\n",
       "      <td>62mP7</td>\n",
       "      <td>14.272088</td>\n",
       "      <td>-3.475083</td>\n",
       "      <td>0.999183</td>\n",
       "      <td>26.953261</td>\n",
       "    </tr>\n",
       "    <tr>\n",
       "      <td>2</td>\n",
       "      <td>vyE1P</td>\n",
       "      <td>6.263187</td>\n",
       "      <td>-5.948386</td>\n",
       "      <td>5.001160</td>\n",
       "      <td>134.766305</td>\n",
       "    </tr>\n",
       "    <tr>\n",
       "      <td>3</td>\n",
       "      <td>KcrkZ</td>\n",
       "      <td>-13.081196</td>\n",
       "      <td>-11.506057</td>\n",
       "      <td>4.999415</td>\n",
       "      <td>137.945408</td>\n",
       "    </tr>\n",
       "    <tr>\n",
       "      <td>4</td>\n",
       "      <td>AHL4O</td>\n",
       "      <td>12.702195</td>\n",
       "      <td>-8.147433</td>\n",
       "      <td>5.004363</td>\n",
       "      <td>134.766305</td>\n",
       "    </tr>\n",
       "  </tbody>\n",
       "</table>\n",
       "</div>"
      ],
      "text/plain": [
       "      id         f0         f1        f2     product\n",
       "0  kBEdx -15.001348  -8.276000 -0.005876    3.179103\n",
       "1  62mP7  14.272088  -3.475083  0.999183   26.953261\n",
       "2  vyE1P   6.263187  -5.948386  5.001160  134.766305\n",
       "3  KcrkZ -13.081196 -11.506057  4.999415  137.945408\n",
       "4  AHL4O  12.702195  -8.147433  5.004363  134.766305"
      ]
     },
     "metadata": {},
     "output_type": "display_data"
    },
    {
     "data": {
      "text/html": [
       "<div>\n",
       "<style scoped>\n",
       "    .dataframe tbody tr th:only-of-type {\n",
       "        vertical-align: middle;\n",
       "    }\n",
       "\n",
       "    .dataframe tbody tr th {\n",
       "        vertical-align: top;\n",
       "    }\n",
       "\n",
       "    .dataframe thead th {\n",
       "        text-align: right;\n",
       "    }\n",
       "</style>\n",
       "<table border=\"1\" class=\"dataframe\">\n",
       "  <thead>\n",
       "    <tr style=\"text-align: right;\">\n",
       "      <th></th>\n",
       "      <th>id</th>\n",
       "      <th>f0</th>\n",
       "      <th>f1</th>\n",
       "      <th>f2</th>\n",
       "      <th>product</th>\n",
       "    </tr>\n",
       "  </thead>\n",
       "  <tbody>\n",
       "    <tr>\n",
       "      <td>0</td>\n",
       "      <td>fwXo0</td>\n",
       "      <td>-1.146987</td>\n",
       "      <td>0.963328</td>\n",
       "      <td>-0.828965</td>\n",
       "      <td>27.758673</td>\n",
       "    </tr>\n",
       "    <tr>\n",
       "      <td>1</td>\n",
       "      <td>WJtFt</td>\n",
       "      <td>0.262778</td>\n",
       "      <td>0.269839</td>\n",
       "      <td>-2.530187</td>\n",
       "      <td>56.069697</td>\n",
       "    </tr>\n",
       "    <tr>\n",
       "      <td>2</td>\n",
       "      <td>ovLUW</td>\n",
       "      <td>0.194587</td>\n",
       "      <td>0.289035</td>\n",
       "      <td>-5.586433</td>\n",
       "      <td>62.871910</td>\n",
       "    </tr>\n",
       "    <tr>\n",
       "      <td>3</td>\n",
       "      <td>q6cA6</td>\n",
       "      <td>2.236060</td>\n",
       "      <td>-0.553760</td>\n",
       "      <td>0.930038</td>\n",
       "      <td>114.572842</td>\n",
       "    </tr>\n",
       "    <tr>\n",
       "      <td>4</td>\n",
       "      <td>WPMUX</td>\n",
       "      <td>-0.515993</td>\n",
       "      <td>1.716266</td>\n",
       "      <td>5.899011</td>\n",
       "      <td>149.600746</td>\n",
       "    </tr>\n",
       "  </tbody>\n",
       "</table>\n",
       "</div>"
      ],
      "text/plain": [
       "      id        f0        f1        f2     product\n",
       "0  fwXo0 -1.146987  0.963328 -0.828965   27.758673\n",
       "1  WJtFt  0.262778  0.269839 -2.530187   56.069697\n",
       "2  ovLUW  0.194587  0.289035 -5.586433   62.871910\n",
       "3  q6cA6  2.236060 -0.553760  0.930038  114.572842\n",
       "4  WPMUX -0.515993  1.716266  5.899011  149.600746"
      ]
     },
     "metadata": {},
     "output_type": "display_data"
    }
   ],
   "source": [
    "#первые 5 строк каждого датасета\n",
    "display(data0.head())\n",
    "display(data1.head())\n",
    "display(data2.head())"
   ]
  },
  {
   "cell_type": "code",
   "execution_count": 4,
   "metadata": {},
   "outputs": [
    {
     "name": "stdout",
     "output_type": "stream",
     "text": [
      "\n",
      "\n",
      "Первый датасет\n",
      "\n",
      "\n",
      "<class 'pandas.core.frame.DataFrame'>\n",
      "RangeIndex: 100000 entries, 0 to 99999\n",
      "Data columns (total 5 columns):\n",
      "id         100000 non-null object\n",
      "f0         100000 non-null float64\n",
      "f1         100000 non-null float64\n",
      "f2         100000 non-null float64\n",
      "product    100000 non-null float64\n",
      "dtypes: float64(4), object(1)\n",
      "memory usage: 3.8+ MB\n"
     ]
    },
    {
     "data": {
      "text/plain": [
       "None"
      ]
     },
     "metadata": {},
     "output_type": "display_data"
    },
    {
     "data": {
      "text/html": [
       "<div>\n",
       "<style scoped>\n",
       "    .dataframe tbody tr th:only-of-type {\n",
       "        vertical-align: middle;\n",
       "    }\n",
       "\n",
       "    .dataframe tbody tr th {\n",
       "        vertical-align: top;\n",
       "    }\n",
       "\n",
       "    .dataframe thead th {\n",
       "        text-align: right;\n",
       "    }\n",
       "</style>\n",
       "<table border=\"1\" class=\"dataframe\">\n",
       "  <thead>\n",
       "    <tr style=\"text-align: right;\">\n",
       "      <th></th>\n",
       "      <th>f0</th>\n",
       "      <th>f1</th>\n",
       "      <th>f2</th>\n",
       "      <th>product</th>\n",
       "    </tr>\n",
       "  </thead>\n",
       "  <tbody>\n",
       "    <tr>\n",
       "      <td>count</td>\n",
       "      <td>100000.000000</td>\n",
       "      <td>100000.000000</td>\n",
       "      <td>100000.000000</td>\n",
       "      <td>100000.000000</td>\n",
       "    </tr>\n",
       "    <tr>\n",
       "      <td>mean</td>\n",
       "      <td>0.500419</td>\n",
       "      <td>0.250143</td>\n",
       "      <td>2.502647</td>\n",
       "      <td>92.500000</td>\n",
       "    </tr>\n",
       "    <tr>\n",
       "      <td>std</td>\n",
       "      <td>0.871832</td>\n",
       "      <td>0.504433</td>\n",
       "      <td>3.248248</td>\n",
       "      <td>44.288691</td>\n",
       "    </tr>\n",
       "    <tr>\n",
       "      <td>min</td>\n",
       "      <td>-1.408605</td>\n",
       "      <td>-0.848218</td>\n",
       "      <td>-12.088328</td>\n",
       "      <td>0.000000</td>\n",
       "    </tr>\n",
       "    <tr>\n",
       "      <td>25%</td>\n",
       "      <td>-0.072580</td>\n",
       "      <td>-0.200881</td>\n",
       "      <td>0.287748</td>\n",
       "      <td>56.497507</td>\n",
       "    </tr>\n",
       "    <tr>\n",
       "      <td>50%</td>\n",
       "      <td>0.502360</td>\n",
       "      <td>0.250252</td>\n",
       "      <td>2.515969</td>\n",
       "      <td>91.849972</td>\n",
       "    </tr>\n",
       "    <tr>\n",
       "      <td>75%</td>\n",
       "      <td>1.073581</td>\n",
       "      <td>0.700646</td>\n",
       "      <td>4.715088</td>\n",
       "      <td>128.564089</td>\n",
       "    </tr>\n",
       "    <tr>\n",
       "      <td>max</td>\n",
       "      <td>2.362331</td>\n",
       "      <td>1.343769</td>\n",
       "      <td>16.003790</td>\n",
       "      <td>185.364347</td>\n",
       "    </tr>\n",
       "  </tbody>\n",
       "</table>\n",
       "</div>"
      ],
      "text/plain": [
       "                  f0             f1             f2        product\n",
       "count  100000.000000  100000.000000  100000.000000  100000.000000\n",
       "mean        0.500419       0.250143       2.502647      92.500000\n",
       "std         0.871832       0.504433       3.248248      44.288691\n",
       "min        -1.408605      -0.848218     -12.088328       0.000000\n",
       "25%        -0.072580      -0.200881       0.287748      56.497507\n",
       "50%         0.502360       0.250252       2.515969      91.849972\n",
       "75%         1.073581       0.700646       4.715088     128.564089\n",
       "max         2.362331       1.343769      16.003790     185.364347"
      ]
     },
     "metadata": {},
     "output_type": "display_data"
    },
    {
     "name": "stdout",
     "output_type": "stream",
     "text": [
      "\n",
      "\n",
      "Второй датасет\n",
      "\n",
      "\n",
      "<class 'pandas.core.frame.DataFrame'>\n",
      "RangeIndex: 100000 entries, 0 to 99999\n",
      "Data columns (total 5 columns):\n",
      "id         100000 non-null object\n",
      "f0         100000 non-null float64\n",
      "f1         100000 non-null float64\n",
      "f2         100000 non-null float64\n",
      "product    100000 non-null float64\n",
      "dtypes: float64(4), object(1)\n",
      "memory usage: 3.8+ MB\n"
     ]
    },
    {
     "data": {
      "text/plain": [
       "None"
      ]
     },
     "metadata": {},
     "output_type": "display_data"
    },
    {
     "data": {
      "text/html": [
       "<div>\n",
       "<style scoped>\n",
       "    .dataframe tbody tr th:only-of-type {\n",
       "        vertical-align: middle;\n",
       "    }\n",
       "\n",
       "    .dataframe tbody tr th {\n",
       "        vertical-align: top;\n",
       "    }\n",
       "\n",
       "    .dataframe thead th {\n",
       "        text-align: right;\n",
       "    }\n",
       "</style>\n",
       "<table border=\"1\" class=\"dataframe\">\n",
       "  <thead>\n",
       "    <tr style=\"text-align: right;\">\n",
       "      <th></th>\n",
       "      <th>f0</th>\n",
       "      <th>f1</th>\n",
       "      <th>f2</th>\n",
       "      <th>product</th>\n",
       "    </tr>\n",
       "  </thead>\n",
       "  <tbody>\n",
       "    <tr>\n",
       "      <td>count</td>\n",
       "      <td>100000.000000</td>\n",
       "      <td>100000.000000</td>\n",
       "      <td>100000.000000</td>\n",
       "      <td>100000.000000</td>\n",
       "    </tr>\n",
       "    <tr>\n",
       "      <td>mean</td>\n",
       "      <td>1.141296</td>\n",
       "      <td>-4.796579</td>\n",
       "      <td>2.494541</td>\n",
       "      <td>68.825000</td>\n",
       "    </tr>\n",
       "    <tr>\n",
       "      <td>std</td>\n",
       "      <td>8.965932</td>\n",
       "      <td>5.119872</td>\n",
       "      <td>1.703572</td>\n",
       "      <td>45.944423</td>\n",
       "    </tr>\n",
       "    <tr>\n",
       "      <td>min</td>\n",
       "      <td>-31.609576</td>\n",
       "      <td>-26.358598</td>\n",
       "      <td>-0.018144</td>\n",
       "      <td>0.000000</td>\n",
       "    </tr>\n",
       "    <tr>\n",
       "      <td>25%</td>\n",
       "      <td>-6.298551</td>\n",
       "      <td>-8.267985</td>\n",
       "      <td>1.000021</td>\n",
       "      <td>26.953261</td>\n",
       "    </tr>\n",
       "    <tr>\n",
       "      <td>50%</td>\n",
       "      <td>1.153055</td>\n",
       "      <td>-4.813172</td>\n",
       "      <td>2.011479</td>\n",
       "      <td>57.085625</td>\n",
       "    </tr>\n",
       "    <tr>\n",
       "      <td>75%</td>\n",
       "      <td>8.621015</td>\n",
       "      <td>-1.332816</td>\n",
       "      <td>3.999904</td>\n",
       "      <td>107.813044</td>\n",
       "    </tr>\n",
       "    <tr>\n",
       "      <td>max</td>\n",
       "      <td>29.421755</td>\n",
       "      <td>18.734063</td>\n",
       "      <td>5.019721</td>\n",
       "      <td>137.945408</td>\n",
       "    </tr>\n",
       "  </tbody>\n",
       "</table>\n",
       "</div>"
      ],
      "text/plain": [
       "                  f0             f1             f2        product\n",
       "count  100000.000000  100000.000000  100000.000000  100000.000000\n",
       "mean        1.141296      -4.796579       2.494541      68.825000\n",
       "std         8.965932       5.119872       1.703572      45.944423\n",
       "min       -31.609576     -26.358598      -0.018144       0.000000\n",
       "25%        -6.298551      -8.267985       1.000021      26.953261\n",
       "50%         1.153055      -4.813172       2.011479      57.085625\n",
       "75%         8.621015      -1.332816       3.999904     107.813044\n",
       "max        29.421755      18.734063       5.019721     137.945408"
      ]
     },
     "metadata": {},
     "output_type": "display_data"
    },
    {
     "name": "stdout",
     "output_type": "stream",
     "text": [
      "\n",
      "\n",
      "Третий датасет\n",
      "\n",
      "\n",
      "<class 'pandas.core.frame.DataFrame'>\n",
      "RangeIndex: 100000 entries, 0 to 99999\n",
      "Data columns (total 5 columns):\n",
      "id         100000 non-null object\n",
      "f0         100000 non-null float64\n",
      "f1         100000 non-null float64\n",
      "f2         100000 non-null float64\n",
      "product    100000 non-null float64\n",
      "dtypes: float64(4), object(1)\n",
      "memory usage: 3.8+ MB\n"
     ]
    },
    {
     "data": {
      "text/plain": [
       "None"
      ]
     },
     "metadata": {},
     "output_type": "display_data"
    },
    {
     "data": {
      "text/html": [
       "<div>\n",
       "<style scoped>\n",
       "    .dataframe tbody tr th:only-of-type {\n",
       "        vertical-align: middle;\n",
       "    }\n",
       "\n",
       "    .dataframe tbody tr th {\n",
       "        vertical-align: top;\n",
       "    }\n",
       "\n",
       "    .dataframe thead th {\n",
       "        text-align: right;\n",
       "    }\n",
       "</style>\n",
       "<table border=\"1\" class=\"dataframe\">\n",
       "  <thead>\n",
       "    <tr style=\"text-align: right;\">\n",
       "      <th></th>\n",
       "      <th>f0</th>\n",
       "      <th>f1</th>\n",
       "      <th>f2</th>\n",
       "      <th>product</th>\n",
       "    </tr>\n",
       "  </thead>\n",
       "  <tbody>\n",
       "    <tr>\n",
       "      <td>count</td>\n",
       "      <td>100000.000000</td>\n",
       "      <td>100000.000000</td>\n",
       "      <td>100000.000000</td>\n",
       "      <td>100000.000000</td>\n",
       "    </tr>\n",
       "    <tr>\n",
       "      <td>mean</td>\n",
       "      <td>0.002023</td>\n",
       "      <td>-0.002081</td>\n",
       "      <td>2.495128</td>\n",
       "      <td>95.000000</td>\n",
       "    </tr>\n",
       "    <tr>\n",
       "      <td>std</td>\n",
       "      <td>1.732045</td>\n",
       "      <td>1.730417</td>\n",
       "      <td>3.473445</td>\n",
       "      <td>44.749921</td>\n",
       "    </tr>\n",
       "    <tr>\n",
       "      <td>min</td>\n",
       "      <td>-8.760004</td>\n",
       "      <td>-7.084020</td>\n",
       "      <td>-11.970335</td>\n",
       "      <td>0.000000</td>\n",
       "    </tr>\n",
       "    <tr>\n",
       "      <td>25%</td>\n",
       "      <td>-1.162288</td>\n",
       "      <td>-1.174820</td>\n",
       "      <td>0.130359</td>\n",
       "      <td>59.450441</td>\n",
       "    </tr>\n",
       "    <tr>\n",
       "      <td>50%</td>\n",
       "      <td>0.009424</td>\n",
       "      <td>-0.009482</td>\n",
       "      <td>2.484236</td>\n",
       "      <td>94.925613</td>\n",
       "    </tr>\n",
       "    <tr>\n",
       "      <td>75%</td>\n",
       "      <td>1.158535</td>\n",
       "      <td>1.163678</td>\n",
       "      <td>4.858794</td>\n",
       "      <td>130.595027</td>\n",
       "    </tr>\n",
       "    <tr>\n",
       "      <td>max</td>\n",
       "      <td>7.238262</td>\n",
       "      <td>7.844801</td>\n",
       "      <td>16.739402</td>\n",
       "      <td>190.029838</td>\n",
       "    </tr>\n",
       "  </tbody>\n",
       "</table>\n",
       "</div>"
      ],
      "text/plain": [
       "                  f0             f1             f2        product\n",
       "count  100000.000000  100000.000000  100000.000000  100000.000000\n",
       "mean        0.002023      -0.002081       2.495128      95.000000\n",
       "std         1.732045       1.730417       3.473445      44.749921\n",
       "min        -8.760004      -7.084020     -11.970335       0.000000\n",
       "25%        -1.162288      -1.174820       0.130359      59.450441\n",
       "50%         0.009424      -0.009482       2.484236      94.925613\n",
       "75%         1.158535       1.163678       4.858794     130.595027\n",
       "max         7.238262       7.844801      16.739402     190.029838"
      ]
     },
     "metadata": {},
     "output_type": "display_data"
    }
   ],
   "source": [
    "#изучим данные \n",
    "print('\\n\\nПервый датасет\\n\\n')\n",
    "display(data0.info())\n",
    "display(data0.describe())\n",
    "print('\\n\\nВторой датасет\\n\\n')\n",
    "display(data1.info())\n",
    "display(data1.describe())\n",
    "print('\\n\\nТретий датасет\\n\\n')\n",
    "display(data2.info())\n",
    "display(data2.describe())"
   ]
  },
  {
   "cell_type": "code",
   "execution_count": 5,
   "metadata": {},
   "outputs": [
    {
     "name": "stdout",
     "output_type": "stream",
     "text": [
      "Датасет 0, количество дубликатов:  0\n",
      "Датасет 1, количество дубликатов:  0\n",
      "Датасет 2, количество дубликатов:  0\n"
     ]
    }
   ],
   "source": [
    "#проверим дубликаты\n",
    "\n",
    "print('Датасет 0, количество дубликатов: ',data0.duplicated().sum())\n",
    "print('Датасет 1, количество дубликатов: ',data1.duplicated().sum())\n",
    "print('Датасет 2, количество дубликатов: ',data2.duplicated().sum())"
   ]
  },
  {
   "cell_type": "code",
   "execution_count": 6,
   "metadata": {},
   "outputs": [
    {
     "data": {
      "text/plain": [
       "id          99990\n",
       "f0         100000\n",
       "f1         100000\n",
       "f2         100000\n",
       "product    100000\n",
       "dtype: int64"
      ]
     },
     "execution_count": 6,
     "metadata": {},
     "output_type": "execute_result"
    }
   ],
   "source": [
    "#проверим уникальные значения\n",
    "\n",
    "data0.nunique()\n"
   ]
  },
  {
   "cell_type": "code",
   "execution_count": 7,
   "metadata": {},
   "outputs": [
    {
     "data": {
      "text/plain": [
       "id          99996\n",
       "f0         100000\n",
       "f1         100000\n",
       "f2         100000\n",
       "product        12\n",
       "dtype: int64"
      ]
     },
     "execution_count": 7,
     "metadata": {},
     "output_type": "execute_result"
    }
   ],
   "source": [
    "data1.nunique()"
   ]
  },
  {
   "cell_type": "code",
   "execution_count": 8,
   "metadata": {},
   "outputs": [
    {
     "data": {
      "text/plain": [
       "id          99996\n",
       "f0         100000\n",
       "f1         100000\n",
       "f2         100000\n",
       "product    100000\n",
       "dtype: int64"
      ]
     },
     "execution_count": 8,
     "metadata": {},
     "output_type": "execute_result"
    }
   ],
   "source": [
    "data2.nunique()"
   ]
  },
  {
   "cell_type": "code",
   "execution_count": 9,
   "metadata": {},
   "outputs": [
    {
     "data": {
      "image/png": "[encoded data removed]",
      "text/plain": [
       "<Figure size 1080x360 with 6 Axes>"
      ]
     },
     "metadata": {
      "needs_background": "light"
     },
     "output_type": "display_data"
    }
   ],
   "source": [
    "fig, ax = plt.subplots(1,3,figsize=(15,5))\n",
    "for i,j in zip([data0,data1,data2],range(3)):    \n",
    "    sns.heatmap(i.corr(),annot=True, linewidths=.1, fmt= '.1f', ax=ax[j])\n",
    "    ax[j].set_title(str(j))"
   ]
  },
  {
   "cell_type": "code",
   "execution_count": 10,
   "metadata": {},
   "outputs": [
    {
     "data": {
      "text/html": [
       "<div>\n",
       "<style scoped>\n",
       "    .dataframe tbody tr th:only-of-type {\n",
       "        vertical-align: middle;\n",
       "    }\n",
       "\n",
       "    .dataframe tbody tr th {\n",
       "        vertical-align: top;\n",
       "    }\n",
       "\n",
       "    .dataframe thead th {\n",
       "        text-align: right;\n",
       "    }\n",
       "</style>\n",
       "<table border=\"1\" class=\"dataframe\">\n",
       "  <thead>\n",
       "    <tr style=\"text-align: right;\">\n",
       "      <th></th>\n",
       "      <th>f0</th>\n",
       "      <th>f1</th>\n",
       "      <th>f2</th>\n",
       "      <th>product</th>\n",
       "    </tr>\n",
       "  </thead>\n",
       "  <tbody>\n",
       "    <tr>\n",
       "      <td>f0</td>\n",
       "      <td>1.000000</td>\n",
       "      <td>-0.440723</td>\n",
       "      <td>-0.003153</td>\n",
       "      <td>0.143536</td>\n",
       "    </tr>\n",
       "    <tr>\n",
       "      <td>f1</td>\n",
       "      <td>-0.440723</td>\n",
       "      <td>1.000000</td>\n",
       "      <td>0.001724</td>\n",
       "      <td>-0.192356</td>\n",
       "    </tr>\n",
       "    <tr>\n",
       "      <td>f2</td>\n",
       "      <td>-0.003153</td>\n",
       "      <td>0.001724</td>\n",
       "      <td>1.000000</td>\n",
       "      <td>0.483663</td>\n",
       "    </tr>\n",
       "    <tr>\n",
       "      <td>product</td>\n",
       "      <td>0.143536</td>\n",
       "      <td>-0.192356</td>\n",
       "      <td>0.483663</td>\n",
       "      <td>1.000000</td>\n",
       "    </tr>\n",
       "  </tbody>\n",
       "</table>\n",
       "</div>"
      ],
      "text/plain": [
       "               f0        f1        f2   product\n",
       "f0       1.000000 -0.440723 -0.003153  0.143536\n",
       "f1      -0.440723  1.000000  0.001724 -0.192356\n",
       "f2      -0.003153  0.001724  1.000000  0.483663\n",
       "product  0.143536 -0.192356  0.483663  1.000000"
      ]
     },
     "metadata": {},
     "output_type": "display_data"
    },
    {
     "data": {
      "text/html": [
       "<div>\n",
       "<style scoped>\n",
       "    .dataframe tbody tr th:only-of-type {\n",
       "        vertical-align: middle;\n",
       "    }\n",
       "\n",
       "    .dataframe tbody tr th {\n",
       "        vertical-align: top;\n",
       "    }\n",
       "\n",
       "    .dataframe thead th {\n",
       "        text-align: right;\n",
       "    }\n",
       "</style>\n",
       "<table border=\"1\" class=\"dataframe\">\n",
       "  <thead>\n",
       "    <tr style=\"text-align: right;\">\n",
       "      <th></th>\n",
       "      <th>f0</th>\n",
       "      <th>f1</th>\n",
       "      <th>f2</th>\n",
       "      <th>product</th>\n",
       "    </tr>\n",
       "  </thead>\n",
       "  <tbody>\n",
       "    <tr>\n",
       "      <td>f0</td>\n",
       "      <td>1.000000</td>\n",
       "      <td>0.182287</td>\n",
       "      <td>-0.001777</td>\n",
       "      <td>-0.030491</td>\n",
       "    </tr>\n",
       "    <tr>\n",
       "      <td>f1</td>\n",
       "      <td>0.182287</td>\n",
       "      <td>1.000000</td>\n",
       "      <td>-0.002595</td>\n",
       "      <td>-0.010155</td>\n",
       "    </tr>\n",
       "    <tr>\n",
       "      <td>f2</td>\n",
       "      <td>-0.001777</td>\n",
       "      <td>-0.002595</td>\n",
       "      <td>1.000000</td>\n",
       "      <td>0.999397</td>\n",
       "    </tr>\n",
       "    <tr>\n",
       "      <td>product</td>\n",
       "      <td>-0.030491</td>\n",
       "      <td>-0.010155</td>\n",
       "      <td>0.999397</td>\n",
       "      <td>1.000000</td>\n",
       "    </tr>\n",
       "  </tbody>\n",
       "</table>\n",
       "</div>"
      ],
      "text/plain": [
       "               f0        f1        f2   product\n",
       "f0       1.000000  0.182287 -0.001777 -0.030491\n",
       "f1       0.182287  1.000000 -0.002595 -0.010155\n",
       "f2      -0.001777 -0.002595  1.000000  0.999397\n",
       "product -0.030491 -0.010155  0.999397  1.000000"
      ]
     },
     "metadata": {},
     "output_type": "display_data"
    },
    {
     "data": {
      "text/html": [
       "<div>\n",
       "<style scoped>\n",
       "    .dataframe tbody tr th:only-of-type {\n",
       "        vertical-align: middle;\n",
       "    }\n",
       "\n",
       "    .dataframe tbody tr th {\n",
       "        vertical-align: top;\n",
       "    }\n",
       "\n",
       "    .dataframe thead th {\n",
       "        text-align: right;\n",
       "    }\n",
       "</style>\n",
       "<table border=\"1\" class=\"dataframe\">\n",
       "  <thead>\n",
       "    <tr style=\"text-align: right;\">\n",
       "      <th></th>\n",
       "      <th>f0</th>\n",
       "      <th>f1</th>\n",
       "      <th>f2</th>\n",
       "      <th>product</th>\n",
       "    </tr>\n",
       "  </thead>\n",
       "  <tbody>\n",
       "    <tr>\n",
       "      <td>f0</td>\n",
       "      <td>1.000000</td>\n",
       "      <td>0.000528</td>\n",
       "      <td>-0.000448</td>\n",
       "      <td>-0.001987</td>\n",
       "    </tr>\n",
       "    <tr>\n",
       "      <td>f1</td>\n",
       "      <td>0.000528</td>\n",
       "      <td>1.000000</td>\n",
       "      <td>0.000779</td>\n",
       "      <td>-0.001012</td>\n",
       "    </tr>\n",
       "    <tr>\n",
       "      <td>f2</td>\n",
       "      <td>-0.000448</td>\n",
       "      <td>0.000779</td>\n",
       "      <td>1.000000</td>\n",
       "      <td>0.445871</td>\n",
       "    </tr>\n",
       "    <tr>\n",
       "      <td>product</td>\n",
       "      <td>-0.001987</td>\n",
       "      <td>-0.001012</td>\n",
       "      <td>0.445871</td>\n",
       "      <td>1.000000</td>\n",
       "    </tr>\n",
       "  </tbody>\n",
       "</table>\n",
       "</div>"
      ],
      "text/plain": [
       "               f0        f1        f2   product\n",
       "f0       1.000000  0.000528 -0.000448 -0.001987\n",
       "f1       0.000528  1.000000  0.000779 -0.001012\n",
       "f2      -0.000448  0.000779  1.000000  0.445871\n",
       "product -0.001987 -0.001012  0.445871  1.000000"
      ]
     },
     "metadata": {},
     "output_type": "display_data"
    }
   ],
   "source": [
    "#оценка корреляций признаков\n",
    "display(data0.corr())\n",
    "display(data1.corr())\n",
    "display(data2.corr())"
   ]
  },
  {
   "cell_type": "code",
   "execution_count": 11,
   "metadata": {},
   "outputs": [],
   "source": [
    "#посмотрим гистограмму распределения\n",
    "#функция строит гистограмму и boxplot для выбранного параметра:\n",
    "\n",
    "def show_hists(data, data_label, num_bins, rug=False, log_scale=False):\n",
    "    \n",
    "    sns.set()\n",
    "    f, axes = plt.subplots(1, 2, figsize=(15, 4))\n",
    "    axes[0].set_title(data_label + \". Плотность распределения\", fontsize=14)\n",
    "    axes[0].set_ylabel('Плотность', fontsize=14)\n",
    "    sns.distplot(data, bins=num_bins, rug=rug, ax=axes[0], color=\"y\")\n",
    "    axes[1].set_title(data_label + \". Boxplot\", fontsize=14)\n",
    "    sns.boxplot(data=data, ax=axes[1], palette=\"Set2\")\n",
    "    plt.show()"
   ]
  },
  {
   "cell_type": "code",
   "execution_count": 12,
   "metadata": {},
   "outputs": [],
   "source": [
    "def show_region(data, name):\n",
    "    numerics = ['f0', 'f1', 'f2', 'product']\n",
    "    for column in numerics:\n",
    "        show_hists(data[column], name + ' ' + column, num_bins=15)"
   ]
  },
  {
   "cell_type": "code",
   "execution_count": 13,
   "metadata": {},
   "outputs": [
    {
     "data": {
      "image/png": "[encoded data removed]",
      "text/plain": [
       "<Figure size 1080x288 with 2 Axes>"
      ]
     },
     "metadata": {},
     "output_type": "display_data"
    },
    {
     "data": {
      "image/png": "[encoded data removed]",
      "text/plain": [
       "<Figure size 1080x288 with 2 Axes>"
      ]
     },
     "metadata": {},
     "output_type": "display_data"
    },
    {
     "data": {
      "image/png": "[encoded data removed]",
      "text/plain": [
       "<Figure size 1080x288 with 2 Axes>"
      ]
     },
     "metadata": {},
     "output_type": "display_data"
    },
    {
     "data": {
      "image/png": "[encoded data removed]",
      "text/plain": [
       "<Figure size 1080x288 with 2 Axes>"
      ]
     },
     "metadata": {},
     "output_type": "display_data"
    },
    {
     "data": {
      "image/png": "[encoded data removed]",
      "text/plain": [
       "<Figure size 1080x288 with 2 Axes>"
      ]
     },
     "metadata": {},
     "output_type": "display_data"
    },
    {
     "data": {
      "image/png": "[encoded data removed]",
      "text/plain": [
       "<Figure size 1080x288 with 2 Axes>"
      ]
     },
     "metadata": {},
     "output_type": "display_data"
    },
    {
     "data": {
      "image/png": "[encoded data removed]",
      "text/plain": [
       "<Figure size 1080x288 with 2 Axes>"
      ]
     },
     "metadata": {},
     "output_type": "display_data"
    },
    {
     "data": {
      "image/png": "[encoded data removed]",
      "text/plain": [
       "<Figure size 1080x288 with 2 Axes>"
      ]
     },
     "metadata": {},
     "output_type": "display_data"
    },
    {
     "data": {
      "image/png": "[encoded data removed]",
      "text/plain": [
       "<Figure size 1080x288 with 2 Axes>"
      ]
     },
     "metadata": {},
     "output_type": "display_data"
    },
    {
     "data": {
      "image/png": "[encoded data removed]",
      "text/plain": [
       "<Figure size 1080x288 with 2 Axes>"
      ]
     },
     "metadata": {},
     "output_type": "display_data"
    },
    {
     "data": {
      "image/png": "[encoded data removed]",
      "text/plain": [
       "<Figure size 1080x288 with 2 Axes>"
      ]
     },
     "metadata": {},
     "output_type": "display_data"
    },
    {
     "data": {
      "image/png": "[encoded data removed]",
      "text/plain": [
       "<Figure size 1080x288 with 2 Axes>"
      ]
     },
     "metadata": {},
     "output_type": "display_data"
    }
   ],
   "source": [
    "for data, name in [(data0, 'Region_0'), (data1, 'Region_1'), (data2, 'Region_2')]:\n",
    "    show_region(data, name)"
   ]
  },
  {
   "cell_type": "markdown",
   "metadata": {},
   "source": [
    "**Вывод**\n",
    "\n",
    "В целом все датасеты хорошо подготовлены, типы данных корректные, дубликатов не имеется, пропущенных значений тоже.\n",
    "\n",
    "Распределения некоторых признаков отличаются от нормального, присутствуют небольшие выбросы. \n",
    "\n",
    "Масштабы распределений признаков не сильно отличаются друг от друга, поэтому нет необходимости применять масштабирование.\n",
    "\n",
    "Признак f2  сильно коррелирует с product.\n",
    "\n",
    "У второго датасета уникальных значений в product всего 12. "
   ]
  },
  {
   "cell_type": "markdown",
   "metadata": {},
   "source": [
    "## Обучение и проверка модели"
   ]
  },
  {
   "cell_type": "code",
   "execution_count": 16,
   "metadata": {},
   "outputs": [],
   "source": [
    "#создаем листы для хранения результатов прогнозирования и метрик\n",
    "# проверим модели на всех трех датасетах и сохраним результаты метрик и прогнозирований в листы\n",
    "\n",
    "rmse_list = []\n",
    "predictions_list = []\n",
    "score_list = []\n",
    "target = []\n",
    "predictions_df = pd.DataFrame()\n",
    "target_df = pd.DataFrame()\n",
    "\n",
    "for i,j in zip([data0,data1,data2],range(3)):\n",
    "    X = i.drop(['product','id'], axis=1)\n",
    "    y = i['product']\n",
    "    X_train, X_valid, y_train, y_valid = train_test_split(\n",
    "        X, y, random_state=12345, test_size=0.25) \n",
    "    \n",
    "    lr = LinearRegression(n_jobs = -1)\n",
    "    lr.fit(X_train, y_train)\n",
    "    predictions = lr.predict(X_valid)\n",
    "    rmse = np.sqrt(np.mean((y_valid-predictions)**2))\n",
    "    rmse_list.append(rmse)\n",
    "    predictions_list.append(predictions.mean())\n",
    "    score_list.append(lr.score(X_train,y_train))\n",
    "    target.append(i['product'].mean())\n",
    "    target_df[j] = y_valid\n",
    "    predictions_df[j] = predictions"
   ]
  },
  {
   "cell_type": "code",
   "execution_count": 17,
   "metadata": {},
   "outputs": [
    {
     "data": {
      "text/html": [
       "<div>\n",
       "<style scoped>\n",
       "    .dataframe tbody tr th:only-of-type {\n",
       "        vertical-align: middle;\n",
       "    }\n",
       "\n",
       "    .dataframe tbody tr th {\n",
       "        vertical-align: top;\n",
       "    }\n",
       "\n",
       "    .dataframe thead th {\n",
       "        text-align: right;\n",
       "    }\n",
       "</style>\n",
       "<table border=\"1\" class=\"dataframe\">\n",
       "  <thead>\n",
       "    <tr style=\"text-align: right;\">\n",
       "      <th></th>\n",
       "      <th>region 1</th>\n",
       "      <th>region 2</th>\n",
       "      <th>region 3</th>\n",
       "    </tr>\n",
       "  </thead>\n",
       "  <tbody>\n",
       "    <tr>\n",
       "      <td>RMSE</td>\n",
       "      <td>37.579422</td>\n",
       "      <td>0.893099</td>\n",
       "      <td>40.029709</td>\n",
       "    </tr>\n",
       "    <tr>\n",
       "      <td>SCORE</td>\n",
       "      <td>0.274239</td>\n",
       "      <td>0.999625</td>\n",
       "      <td>0.196614</td>\n",
       "    </tr>\n",
       "    <tr>\n",
       "      <td>PREDICTED MEAN</td>\n",
       "      <td>92.592568</td>\n",
       "      <td>68.728547</td>\n",
       "      <td>94.965046</td>\n",
       "    </tr>\n",
       "    <tr>\n",
       "      <td>TARGET MEAN</td>\n",
       "      <td>92.500000</td>\n",
       "      <td>68.825000</td>\n",
       "      <td>95.000000</td>\n",
       "    </tr>\n",
       "  </tbody>\n",
       "</table>\n",
       "</div>"
      ],
      "text/plain": [
       "                 region 1   region 2   region 3\n",
       "RMSE            37.579422   0.893099  40.029709\n",
       "SCORE            0.274239   0.999625   0.196614\n",
       "PREDICTED MEAN  92.592568  68.728547  94.965046\n",
       "TARGET MEAN     92.500000  68.825000  95.000000"
      ]
     },
     "execution_count": 17,
     "metadata": {},
     "output_type": "execute_result"
    }
   ],
   "source": [
    "#создадим таблицу, чтобы сравнить результаты\n",
    "target_df = target_df.reset_index(drop=True)\n",
    "scorelist = pd.DataFrame(\n",
    "    data=[rmse_list, score_list, predictions_list, target], \n",
    "    index=['RMSE','SCORE','PREDICTED MEAN', 'TARGET MEAN'], \n",
    "    columns=['region 1','region 2','region 3'])\n",
    "scorelist"
   ]
  },
  {
   "cell_type": "markdown",
   "metadata": {},
   "source": [
    "**Вывод**"
   ]
  },
  {
   "cell_type": "markdown",
   "metadata": {},
   "source": [
    "Среднее спрогнозированное и среднее target практически одинаково.\n",
    "\n",
    "Посмотрим на результаты у моделей:"
   ]
  },
  {
   "cell_type": "markdown",
   "metadata": {},
   "source": [
    "Модели первого и третьего регионов показывают очень плохие результаты, их не рекомендуется использовать  для выбора скважины в регионе.\n",
    "\n",
    "Модель второго региона показыла очень хорошие результаты, но у цели всего 12 значений из 100000, было легко спрогнозировать, поэтому вторая модель также неидеальна.\n",
    "\n"
   ]
  },
  {
   "cell_type": "markdown",
   "metadata": {},
   "source": [
    "## Подготовка к расчёту прибыли"
   ]
  },
  {
   "cell_type": "code",
   "execution_count": 16,
   "metadata": {},
   "outputs": [],
   "source": [
    "#Исходя из условий обозначим: \n",
    "\n",
    "budget = 10000000000   #бюджет на разработку скважин в регионе \n",
    "total_reconnaissance = 500 #при разведке исследуют 500 точек\n",
    "profit_wells = 200  # 200 лучших скважин \n",
    "profit_from_one_barrel = 450   #прибыль с одного барреля сырья \n",
    "profit_from_one_product = 450000   #доход с каждой единицы продукта"
   ]
  },
  {
   "cell_type": "code",
   "execution_count": 17,
   "metadata": {},
   "outputs": [
    {
     "data": {
      "text/plain": [
       "50000000.0"
      ]
     },
     "execution_count": 17,
     "metadata": {},
     "output_type": "execute_result"
    }
   ],
   "source": [
    "#посчитаем цену за бурение одной скважины\n",
    "well_drilling_price = budget / profit_wells\n",
    "well_drilling_price"
   ]
  },
  {
   "cell_type": "code",
   "execution_count": 18,
   "metadata": {},
   "outputs": [
    {
     "data": {
      "text/plain": [
       "111.11111111111111"
      ]
     },
     "execution_count": 18,
     "metadata": {},
     "output_type": "execute_result"
    }
   ],
   "source": [
    "#достаточный объем сырья для безубыточной разработки новой скважины\n",
    "min_product_mean  = well_drilling_price/profit_from_one_product\n",
    "min_product_mean"
   ]
  },
  {
   "cell_type": "markdown",
   "metadata": {},
   "source": [
    "**Вывод**\n",
    "\n",
    "\n",
    "\n",
    "Минимальный объем сырья в каждой скважине должен составлять 111 тыс барелей. \n",
    "Cредние предсказания и средние target  регионов не проходят минимальный порог."
   ]
  },
  {
   "cell_type": "markdown",
   "metadata": {},
   "source": [
    "## Расчёт прибыли и рисков "
   ]
  },
  {
   "cell_type": "code",
   "execution_count": 19,
   "metadata": {},
   "outputs": [],
   "source": [
    "#функция для расчета прибыли по выбранным скважинам и предсказаниям. \n",
    "\n",
    "def revenue(target, probabilities, count):\n",
    "    probs_sorted = probabilities.sort_values(ascending=False)\n",
    "    selected = target[probs_sorted.index][:count]\n",
    "    return (450000 * selected.sum() - (budget))"
   ]
  },
  {
   "cell_type": "code",
   "execution_count": 20,
   "metadata": {},
   "outputs": [
    {
     "data": {
      "text/plain": [
       "True"
      ]
     },
     "execution_count": 20,
     "metadata": {},
     "output_type": "execute_result"
    }
   ],
   "source": [
    "target_df.index.names == predictions_df.index.names"
   ]
  },
  {
   "cell_type": "code",
   "execution_count": 21,
   "metadata": {},
   "outputs": [
    {
     "name": "stdout",
     "output_type": "stream",
     "text": [
      "Прибыль 1 региона : 3.32 млрд рублей\n",
      "Прибыль 2 региона : 2.42 млрд рублей\n",
      "Прибыль 3 региона :2.71 млрд рублей\n"
     ]
    }
   ],
   "source": [
    "print('Прибыль 1 региона : {:.2f} млрд рублей'.format(revenue(target_df[0], predictions_df[0],200)/10**9))\n",
    "print('Прибыль 2 региона : {:.2f} млрд рублей'.format(revenue(target_df[1], predictions_df[1],200)/10**9))\n",
    "print('Прибыль 3 региона :{:.2f} млрд рублей'.format(revenue(target_df[2], predictions_df[2],200)/10**9))"
   ]
  },
  {
   "cell_type": "code",
   "execution_count": 22,
   "metadata": {},
   "outputs": [
    {
     "name": "stdout",
     "output_type": "stream",
     "text": [
      "Средняя прибыль: 0.4259385269105923\n",
      "2.5% квантиль: -0.10209009483793653\n",
      "Риск: 6.0\n",
      "95% доверительный интервал:  (-102090094.83793654, 947976353.358369)\n"
     ]
    }
   ],
   "source": [
    "#через bootstrap посчитаем среднюю прибыль , 95% доверительный интервал и риск убытков для первого региона\n",
    "import scipy as sp\n",
    "import scipy.stats\n",
    "\n",
    "revenues = []\n",
    "\n",
    "for i in range(1000):\n",
    "    target_subsample = target_df[0].sample(n=500, replace=True, random_state=state)\n",
    "    probs_subsample = predictions_df[0][target_subsample.index]\n",
    "    revenues.append(revenue(target_subsample, probs_subsample, 200))\n",
    "\n",
    "revenues = pd.Series(revenues)\n",
    "lower = revenues.quantile(0.025)\n",
    "mean = revenues.mean()\n",
    "risks = (revenues < 0).mean()* 100\n",
    "print(\"Средняя прибыль:\", mean/10**9)\n",
    "print(\"2.5% квантиль:\", lower/10**9)\n",
    "print(\"Риск: {}\".format(risks))\n",
    "final_revenues = []\n",
    "confidence_interval = (revenues.quantile(0.025), revenues.quantile(0.975))\n",
    "print('95% доверительный интервал: ', confidence_interval)\n",
    "final_revenues.append(('region 1', mean/10**9, lower/10**9, confidence_interval, risks))"
   ]
  },
  {
   "cell_type": "code",
   "execution_count": 23,
   "metadata": {},
   "outputs": [
    {
     "name": "stdout",
     "output_type": "stream",
     "text": [
      "Средняя прибыль: 0.5182594936973249\n",
      "2.5%-квантиль: 0.1281232314330863\n",
      "Риск: 0.3\n",
      "Риск: 0.3 %\n",
      "95% доверительный интервал:  (128123231.43308629, 953612982.0669085)\n"
     ]
    }
   ],
   "source": [
    "#посчитаем среднюю прибыль , 95% доверительный интервал и риск убытков для второго региона\n",
    "revenues = []\n",
    "\n",
    "for i in range(1000):\n",
    "    target_subsample = target_df[1].sample(n=500, replace=True, random_state=state)\n",
    "    probs_subsample = predictions_df[1][target_subsample.index]\n",
    "    revenues.append(revenue(target_subsample, probs_subsample, 200))\n",
    "\n",
    "revenues = pd.Series(revenues)\n",
    "lower = revenues.quantile(0.025)\n",
    "mean = revenues.mean()\n",
    "risks = (revenues < 0).mean()* 100\n",
    "print(\"Средняя прибыль:\", mean/10**9)\n",
    "print(\"2.5%-квантиль:\", lower/10**9)\n",
    "print(\"Риск: {}\".format(risks))\n",
    "confidence_interval = (revenues.quantile(0.025), revenues.quantile(0.975))\n",
    "print(\"Риск:\", (revenues < 0).mean()* 100, '%')\n",
    "print('95% доверительный интервал: ', confidence_interval)\n",
    "final_revenues.append(('region 2', mean/10**9, lower/10**9, confidence_interval, risks))"
   ]
  },
  {
   "cell_type": "code",
   "execution_count": 24,
   "metadata": {},
   "outputs": [
    {
     "name": "stdout",
     "output_type": "stream",
     "text": [
      "Средняя прибыль: 0.42019400534405005\n",
      "2.5%-квантиль: -0.11585260916001143\n",
      "95% доверительный интервал:  (-115852609.16001143, 989629939.844574)\n",
      "Риск: 6.2 %\n"
     ]
    }
   ],
   "source": [
    "#посчитаем среднюю прибыль , 95% доверительный интервал и риск убытков для третьего региона\n",
    "revenues = []\n",
    "total_wells = 500\n",
    "profit_wells = 200\n",
    "\n",
    "for i in range(1000):\n",
    "    target_subsample = target_df[2].sample(n=total_wells,replace=True, random_state=state)\n",
    "    probs_subsample = predictions_df[2][target_subsample.index]\n",
    "    revenues.append(revenue(target_subsample, probs_subsample, profit_wells))\n",
    "\n",
    "revenues = pd.Series(revenues)\n",
    "lower = revenues.quantile(0.025)\n",
    "mean = revenues.mean()\n",
    "risks = (revenues < 0).mean()* 100\n",
    "#interval = interval = st.t.interval(0.95, len(revenues)-1, revenues.mean()/10**9, revenues.sem()/10**9)\n",
    "print(\"Средняя прибыль:\", mean/10**9)\n",
    "print(\"2.5%-квантиль:\", lower/10**9)\n",
    "confidence_interval = (revenues.quantile(0.025), revenues.quantile(0.975))\n",
    "print('95% доверительный интервал: ', confidence_interval)\n",
    "print(\"Риск:\", (revenues < 0).mean()* 100, '%')\n",
    "final_revenues.append(('region 3', mean/10**9, lower/10**9, confidence_interval, risks))"
   ]
  },
  {
   "cell_type": "code",
   "execution_count": 25,
   "metadata": {},
   "outputs": [
    {
     "data": {
      "text/html": [
       "<style  type=\"text/css\" >\n",
       "    #T_1896c756_980c_11ec_abd0_02420a39b9b6row0_col1 {\n",
       "            background-color:  #d9f8d9;\n",
       "            color:  #000000;\n",
       "        }    #T_1896c756_980c_11ec_abd0_02420a39b9b6row0_col2 {\n",
       "            background-color:  #d9f8d9;\n",
       "            color:  #000000;\n",
       "        }    #T_1896c756_980c_11ec_abd0_02420a39b9b6row0_col4 {\n",
       "            background-color:  #078407;\n",
       "            color:  #f1f1f1;\n",
       "        }    #T_1896c756_980c_11ec_abd0_02420a39b9b6row1_col1 {\n",
       "            background-color:  #008000;\n",
       "            color:  #f1f1f1;\n",
       "        }    #T_1896c756_980c_11ec_abd0_02420a39b9b6row1_col2 {\n",
       "            background-color:  #008000;\n",
       "            color:  #f1f1f1;\n",
       "        }    #T_1896c756_980c_11ec_abd0_02420a39b9b6row1_col4 {\n",
       "            background-color:  #e5ffe5;\n",
       "            color:  #000000;\n",
       "        }    #T_1896c756_980c_11ec_abd0_02420a39b9b6row2_col1 {\n",
       "            background-color:  #e5ffe5;\n",
       "            color:  #000000;\n",
       "        }    #T_1896c756_980c_11ec_abd0_02420a39b9b6row2_col2 {\n",
       "            background-color:  #e5ffe5;\n",
       "            color:  #000000;\n",
       "        }    #T_1896c756_980c_11ec_abd0_02420a39b9b6row2_col4 {\n",
       "            background-color:  #008000;\n",
       "            color:  #f1f1f1;\n",
       "        }</style><table id=\"T_1896c756_980c_11ec_abd0_02420a39b9b6\" ><thead>    <tr>        <th class=\"blank level0\" ></th>        <th class=\"col_heading level0 col0\" >Region</th>        <th class=\"col_heading level0 col1\" >Mean Revenue</th>        <th class=\"col_heading level0 col2\" >Quantile 2.5%</th>        <th class=\"col_heading level0 col3\" >Interval 95%</th>        <th class=\"col_heading level0 col4\" >Risks %</th>    </tr></thead><tbody>\n",
       "                <tr>\n",
       "                        <th id=\"T_1896c756_980c_11ec_abd0_02420a39b9b6level0_row0\" class=\"row_heading level0 row0\" >0</th>\n",
       "                        <td id=\"T_1896c756_980c_11ec_abd0_02420a39b9b6row0_col0\" class=\"data row0 col0\" >region 1</td>\n",
       "                        <td id=\"T_1896c756_980c_11ec_abd0_02420a39b9b6row0_col1\" class=\"data row0 col1\" >0.425939</td>\n",
       "                        <td id=\"T_1896c756_980c_11ec_abd0_02420a39b9b6row0_col2\" class=\"data row0 col2\" >-0.10209</td>\n",
       "                        <td id=\"T_1896c756_980c_11ec_abd0_02420a39b9b6row0_col3\" class=\"data row0 col3\" >(-102090094.83793654, 947976353.358369)</td>\n",
       "                        <td id=\"T_1896c756_980c_11ec_abd0_02420a39b9b6row0_col4\" class=\"data row0 col4\" >6</td>\n",
       "            </tr>\n",
       "            <tr>\n",
       "                        <th id=\"T_1896c756_980c_11ec_abd0_02420a39b9b6level0_row1\" class=\"row_heading level0 row1\" >1</th>\n",
       "                        <td id=\"T_1896c756_980c_11ec_abd0_02420a39b9b6row1_col0\" class=\"data row1 col0\" >region 2</td>\n",
       "                        <td id=\"T_1896c756_980c_11ec_abd0_02420a39b9b6row1_col1\" class=\"data row1 col1\" >0.518259</td>\n",
       "                        <td id=\"T_1896c756_980c_11ec_abd0_02420a39b9b6row1_col2\" class=\"data row1 col2\" >0.128123</td>\n",
       "                        <td id=\"T_1896c756_980c_11ec_abd0_02420a39b9b6row1_col3\" class=\"data row1 col3\" >(128123231.43308629, 953612982.0669085)</td>\n",
       "                        <td id=\"T_1896c756_980c_11ec_abd0_02420a39b9b6row1_col4\" class=\"data row1 col4\" >0.3</td>\n",
       "            </tr>\n",
       "            <tr>\n",
       "                        <th id=\"T_1896c756_980c_11ec_abd0_02420a39b9b6level0_row2\" class=\"row_heading level0 row2\" >2</th>\n",
       "                        <td id=\"T_1896c756_980c_11ec_abd0_02420a39b9b6row2_col0\" class=\"data row2 col0\" >region 3</td>\n",
       "                        <td id=\"T_1896c756_980c_11ec_abd0_02420a39b9b6row2_col1\" class=\"data row2 col1\" >0.420194</td>\n",
       "                        <td id=\"T_1896c756_980c_11ec_abd0_02420a39b9b6row2_col2\" class=\"data row2 col2\" >-0.115853</td>\n",
       "                        <td id=\"T_1896c756_980c_11ec_abd0_02420a39b9b6row2_col3\" class=\"data row2 col3\" >(-115852609.16001143, 989629939.844574)</td>\n",
       "                        <td id=\"T_1896c756_980c_11ec_abd0_02420a39b9b6row2_col4\" class=\"data row2 col4\" >6.2</td>\n",
       "            </tr>\n",
       "    </tbody></table>"
      ],
      "text/plain": [
       "<pandas.io.formats.style.Styler at 0x7fe9b19d1610>"
      ]
     },
     "execution_count": 25,
     "metadata": {},
     "output_type": "execute_result"
    }
   ],
   "source": [
    "report_df = pd.DataFrame(final_revenues, columns=['Region', 'Mean Revenue', 'Quantile 2.5%', 'Interval 95%', 'Risks %'])\n",
    "cm = sns.light_palette(\"green\", as_cmap=True)\n",
    "s = report_df.style.background_gradient(cmap=cm)\n",
    "s"
   ]
  },
  {
   "cell_type": "markdown",
   "metadata": {},
   "source": [
    "**Вывод:**\n",
    "\n",
    "Исходя из полученных данных, можно сказать, что наилучшие результаты показывает второй регион, так как добыча нефти в этом регионе связана с меньшим риском, но при этом обещает принести наибольшую выгоду.\n",
    "\n",
    "**Общий вывод**\n",
    "\n",
    "Мы исследовали три региона для прогнозирования объема сырья и прибыли. Данные были хорошо подготовлены, отсутствовали дубликаты, пустые значения. \n",
    "\n",
    "Второй отличался от других,  в столбце product были лишь 12 уникальных значений, именно это позволило модели хорошо делать прогнозы по второму региону, поэтому  использовать эту модель и сам регион довольно рискованно.\n",
    "\n",
    "Далее мы провели расчет прибыли и пришли к выводу, что минимальный объем сырья должен составлять 111 тыс барелей. Наши средние показатели трех регионов не доходили до этого минимального порога.\n",
    "\n",
    "Исходя из всех полученных данных, можно сделать вывод, что второй регион имеет наибольшие шансы на получение прибыли, но учитывая исходные данные, использовать его тоже довольно рискованно."
   ]
  },
  {
   "cell_type": "code",
   "execution_count": null,
   "metadata": {},
   "outputs": [],
   "source": []
  }
 ],
 "metadata": {
  "ExecuteTimeLog": [
   {
    "duration": 105,
    "start_time": "2022-02-25T16:16:25.774Z"
   },
   {
    "duration": 1755,
    "start_time": "2022-02-25T16:20:21.327Z"
   },
   {
    "duration": 1120,
    "start_time": "2022-02-25T16:20:31.103Z"
   },
   {
    "duration": 2444,
    "start_time": "2022-02-25T16:25:39.539Z"
   },
   {
    "duration": 4432,
    "start_time": "2022-02-25T16:27:01.561Z"
   },
   {
    "duration": 316,
    "start_time": "2022-02-25T16:27:52.400Z"
   },
   {
    "duration": 1104,
    "start_time": "2022-02-25T16:27:58.292Z"
   },
   {
    "duration": 336,
    "start_time": "2022-02-25T16:27:59.398Z"
   },
   {
    "duration": 23,
    "start_time": "2022-02-25T16:28:22.673Z"
   },
   {
    "duration": 110,
    "start_time": "2022-02-25T16:29:34.492Z"
   },
   {
    "duration": 171,
    "start_time": "2022-02-25T16:29:52.608Z"
   },
   {
    "duration": 132,
    "start_time": "2022-02-25T16:30:53.169Z"
   },
   {
    "duration": 96,
    "start_time": "2022-02-25T16:31:38.151Z"
   },
   {
    "duration": 889,
    "start_time": "2022-02-25T16:31:45.716Z"
   },
   {
    "duration": 305,
    "start_time": "2022-02-25T16:32:18.827Z"
   },
   {
    "duration": 256,
    "start_time": "2022-02-25T16:32:26.795Z"
   },
   {
    "duration": 292,
    "start_time": "2022-02-25T16:32:32.966Z"
   },
   {
    "duration": 2011,
    "start_time": "2022-02-25T16:35:06.155Z"
   },
   {
    "duration": 773,
    "start_time": "2022-02-25T16:35:28.766Z"
   },
   {
    "duration": 27,
    "start_time": "2022-02-25T16:36:17.093Z"
   },
   {
    "duration": 5,
    "start_time": "2022-02-25T16:40:16.091Z"
   },
   {
    "duration": 3,
    "start_time": "2022-02-25T16:41:23.644Z"
   },
   {
    "duration": 5038,
    "start_time": "2022-02-25T16:42:02.926Z"
   },
   {
    "duration": 4,
    "start_time": "2022-02-25T16:46:37.894Z"
   },
   {
    "duration": 1131,
    "start_time": "2022-02-25T16:46:43.567Z"
   },
   {
    "duration": 334,
    "start_time": "2022-02-25T16:46:44.700Z"
   },
   {
    "duration": 22,
    "start_time": "2022-02-25T16:46:45.036Z"
   },
   {
    "duration": 132,
    "start_time": "2022-02-25T16:46:45.059Z"
   },
   {
    "duration": 108,
    "start_time": "2022-02-25T16:46:45.193Z"
   },
   {
    "duration": 330,
    "start_time": "2022-02-25T16:46:45.302Z"
   },
   {
    "duration": 251,
    "start_time": "2022-02-25T16:46:45.634Z"
   },
   {
    "duration": 324,
    "start_time": "2022-02-25T16:46:45.887Z"
   },
   {
    "duration": 770,
    "start_time": "2022-02-25T16:46:46.212Z"
   },
   {
    "duration": 27,
    "start_time": "2022-02-25T16:46:46.984Z"
   },
   {
    "duration": 19,
    "start_time": "2022-02-25T16:46:47.013Z"
   },
   {
    "duration": 7,
    "start_time": "2022-02-25T16:46:47.034Z"
   },
   {
    "duration": 1813,
    "start_time": "2022-02-25T16:46:47.042Z"
   },
   {
    "duration": 4,
    "start_time": "2022-02-25T16:47:10.760Z"
   },
   {
    "duration": 1132,
    "start_time": "2022-02-25T16:47:23.197Z"
   },
   {
    "duration": 337,
    "start_time": "2022-02-25T16:47:24.331Z"
   },
   {
    "duration": 24,
    "start_time": "2022-02-25T16:47:24.670Z"
   },
   {
    "duration": 139,
    "start_time": "2022-02-25T16:47:24.695Z"
   },
   {
    "duration": 105,
    "start_time": "2022-02-25T16:47:24.836Z"
   },
   {
    "duration": 320,
    "start_time": "2022-02-25T16:47:24.943Z"
   },
   {
    "duration": 258,
    "start_time": "2022-02-25T16:47:25.264Z"
   },
   {
    "duration": 299,
    "start_time": "2022-02-25T16:47:25.524Z"
   },
   {
    "duration": 746,
    "start_time": "2022-02-25T16:47:25.825Z"
   },
   {
    "duration": 28,
    "start_time": "2022-02-25T16:47:26.573Z"
   },
   {
    "duration": 4,
    "start_time": "2022-02-25T16:47:26.603Z"
   },
   {
    "duration": 24,
    "start_time": "2022-02-25T16:47:26.610Z"
   },
   {
    "duration": 4955,
    "start_time": "2022-02-25T16:47:26.635Z"
   },
   {
    "duration": 1171,
    "start_time": "2022-02-25T17:04:02.018Z"
   },
   {
    "duration": 333,
    "start_time": "2022-02-25T17:04:03.190Z"
   },
   {
    "duration": 24,
    "start_time": "2022-02-25T17:04:03.525Z"
   },
   {
    "duration": 132,
    "start_time": "2022-02-25T17:04:03.551Z"
   },
   {
    "duration": 107,
    "start_time": "2022-02-25T17:04:03.684Z"
   },
   {
    "duration": 417,
    "start_time": "2022-02-25T17:04:03.792Z"
   },
   {
    "duration": 249,
    "start_time": "2022-02-25T17:04:04.210Z"
   },
   {
    "duration": 294,
    "start_time": "2022-02-25T17:04:04.460Z"
   },
   {
    "duration": 738,
    "start_time": "2022-02-25T17:04:04.756Z"
   },
   {
    "duration": 39,
    "start_time": "2022-02-25T17:04:05.495Z"
   },
   {
    "duration": 4,
    "start_time": "2022-02-25T17:04:05.536Z"
   },
   {
    "duration": 27,
    "start_time": "2022-02-25T17:04:05.542Z"
   },
   {
    "duration": 4881,
    "start_time": "2022-02-25T17:04:05.570Z"
   },
   {
    "duration": 1133,
    "start_time": "2022-02-25T17:55:22.370Z"
   },
   {
    "duration": 357,
    "start_time": "2022-02-25T17:55:23.505Z"
   },
   {
    "duration": 21,
    "start_time": "2022-02-25T17:55:23.864Z"
   },
   {
    "duration": 124,
    "start_time": "2022-02-25T17:55:23.886Z"
   },
   {
    "duration": 112,
    "start_time": "2022-02-25T17:55:24.012Z"
   },
   {
    "duration": 337,
    "start_time": "2022-02-25T17:55:24.132Z"
   },
   {
    "duration": 276,
    "start_time": "2022-02-25T17:55:24.470Z"
   },
   {
    "duration": 319,
    "start_time": "2022-02-25T17:55:24.747Z"
   },
   {
    "duration": 792,
    "start_time": "2022-02-25T17:55:25.068Z"
   },
   {
    "duration": 27,
    "start_time": "2022-02-25T17:55:25.862Z"
   },
   {
    "duration": 6,
    "start_time": "2022-02-25T17:55:25.890Z"
   },
   {
    "duration": 6,
    "start_time": "2022-02-25T17:55:25.897Z"
   },
   {
    "duration": 5185,
    "start_time": "2022-02-25T17:55:25.905Z"
   },
   {
    "duration": 1132,
    "start_time": "2022-02-25T17:55:43.464Z"
   },
   {
    "duration": 341,
    "start_time": "2022-02-25T17:55:44.598Z"
   },
   {
    "duration": 22,
    "start_time": "2022-02-25T17:55:44.941Z"
   },
   {
    "duration": 131,
    "start_time": "2022-02-25T17:55:44.965Z"
   },
   {
    "duration": 110,
    "start_time": "2022-02-25T17:55:45.097Z"
   },
   {
    "duration": 323,
    "start_time": "2022-02-25T17:55:45.209Z"
   },
   {
    "duration": 256,
    "start_time": "2022-02-25T17:55:45.534Z"
   },
   {
    "duration": 319,
    "start_time": "2022-02-25T17:55:45.792Z"
   },
   {
    "duration": 760,
    "start_time": "2022-02-25T17:55:46.113Z"
   },
   {
    "duration": 26,
    "start_time": "2022-02-25T17:55:46.875Z"
   },
   {
    "duration": 4,
    "start_time": "2022-02-25T17:55:46.902Z"
   },
   {
    "duration": 8,
    "start_time": "2022-02-25T17:55:46.908Z"
   },
   {
    "duration": 5009,
    "start_time": "2022-02-25T17:55:46.932Z"
   },
   {
    "duration": 1114,
    "start_time": "2022-02-25T17:57:43.479Z"
   },
   {
    "duration": 338,
    "start_time": "2022-02-25T17:57:44.595Z"
   },
   {
    "duration": 22,
    "start_time": "2022-02-25T17:57:44.934Z"
   },
   {
    "duration": 134,
    "start_time": "2022-02-25T17:57:44.958Z"
   },
   {
    "duration": 107,
    "start_time": "2022-02-25T17:57:45.093Z"
   },
   {
    "duration": 319,
    "start_time": "2022-02-25T17:57:45.201Z"
   },
   {
    "duration": 257,
    "start_time": "2022-02-25T17:57:45.522Z"
   },
   {
    "duration": 331,
    "start_time": "2022-02-25T17:57:45.780Z"
   },
   {
    "duration": 765,
    "start_time": "2022-02-25T17:57:46.113Z"
   },
   {
    "duration": 27,
    "start_time": "2022-02-25T17:57:46.880Z"
   },
   {
    "duration": 4,
    "start_time": "2022-02-25T17:57:46.908Z"
   },
   {
    "duration": 19,
    "start_time": "2022-02-25T17:57:46.914Z"
   },
   {
    "duration": 4919,
    "start_time": "2022-02-25T17:57:46.935Z"
   },
   {
    "duration": 448,
    "start_time": "2022-02-25T18:06:12.798Z"
   },
   {
    "duration": 10,
    "start_time": "2022-02-25T18:09:05.412Z"
   },
   {
    "duration": 3,
    "start_time": "2022-02-25T18:15:42.922Z"
   },
   {
    "duration": 3,
    "start_time": "2022-02-25T18:16:21.993Z"
   },
   {
    "duration": 4,
    "start_time": "2022-02-25T18:22:29.384Z"
   },
   {
    "duration": 3,
    "start_time": "2022-02-25T19:22:50.524Z"
   },
   {
    "duration": 20,
    "start_time": "2022-02-25T19:23:19.912Z"
   },
   {
    "duration": 2946,
    "start_time": "2022-02-25T20:38:21.029Z"
   },
   {
    "duration": 1494,
    "start_time": "2022-02-25T21:40:27.220Z"
   },
   {
    "duration": 354,
    "start_time": "2022-02-25T21:40:28.715Z"
   },
   {
    "duration": 25,
    "start_time": "2022-02-25T21:40:29.071Z"
   },
   {
    "duration": 158,
    "start_time": "2022-02-25T21:40:29.098Z"
   },
   {
    "duration": 117,
    "start_time": "2022-02-25T21:40:29.257Z"
   },
   {
    "duration": 357,
    "start_time": "2022-02-25T21:40:29.375Z"
   },
   {
    "duration": 261,
    "start_time": "2022-02-25T21:40:29.734Z"
   },
   {
    "duration": 329,
    "start_time": "2022-02-25T21:40:29.996Z"
   },
   {
    "duration": 800,
    "start_time": "2022-02-25T21:40:30.328Z"
   },
   {
    "duration": 27,
    "start_time": "2022-02-25T21:40:31.132Z"
   },
   {
    "duration": 4,
    "start_time": "2022-02-25T21:40:31.161Z"
   },
   {
    "duration": 7,
    "start_time": "2022-02-25T21:40:31.166Z"
   },
   {
    "duration": 4928,
    "start_time": "2022-02-25T21:40:31.174Z"
   },
   {
    "duration": 441,
    "start_time": "2022-02-25T21:40:36.104Z"
   },
   {
    "duration": 92,
    "start_time": "2022-02-25T21:40:36.547Z"
   },
   {
    "duration": 112,
    "start_time": "2022-02-25T21:40:36.641Z"
   },
   {
    "duration": 31,
    "start_time": "2022-02-25T21:40:36.755Z"
   },
   {
    "duration": 21,
    "start_time": "2022-02-25T21:40:36.787Z"
   },
   {
    "duration": 8,
    "start_time": "2022-02-25T21:40:36.809Z"
   },
   {
    "duration": 28,
    "start_time": "2022-02-25T21:40:36.818Z"
   },
   {
    "duration": 3206,
    "start_time": "2022-02-25T21:40:36.848Z"
   },
   {
    "duration": 1073,
    "start_time": "2022-02-26T19:04:16.784Z"
   },
   {
    "duration": 4404,
    "start_time": "2022-02-26T19:04:17.859Z"
   },
   {
    "duration": 23,
    "start_time": "2022-02-26T19:04:22.265Z"
   },
   {
    "duration": 143,
    "start_time": "2022-02-26T19:04:22.290Z"
   },
   {
    "duration": 104,
    "start_time": "2022-02-26T19:04:22.434Z"
   },
   {
    "duration": 358,
    "start_time": "2022-02-26T19:04:22.540Z"
   },
   {
    "duration": 243,
    "start_time": "2022-02-26T19:04:22.899Z"
   },
   {
    "duration": 298,
    "start_time": "2022-02-26T19:04:23.144Z"
   },
   {
    "duration": 723,
    "start_time": "2022-02-26T19:04:23.445Z"
   },
   {
    "duration": 38,
    "start_time": "2022-02-26T19:04:24.170Z"
   },
   {
    "duration": 4,
    "start_time": "2022-02-26T19:04:24.209Z"
   },
   {
    "duration": 8,
    "start_time": "2022-02-26T19:04:24.214Z"
   },
   {
    "duration": 4635,
    "start_time": "2022-02-26T19:04:24.223Z"
   },
   {
    "duration": 547,
    "start_time": "2022-02-26T19:04:28.859Z"
   },
   {
    "duration": 100,
    "start_time": "2022-02-26T19:04:29.407Z"
   },
   {
    "duration": 6,
    "start_time": "2022-02-26T19:04:29.508Z"
   },
   {
    "duration": 5,
    "start_time": "2022-02-26T19:04:29.516Z"
   },
   {
    "duration": 5,
    "start_time": "2022-02-26T19:04:29.522Z"
   },
   {
    "duration": 5,
    "start_time": "2022-02-26T19:04:29.528Z"
   },
   {
    "duration": 19,
    "start_time": "2022-02-26T19:04:29.535Z"
   },
   {
    "duration": 2860,
    "start_time": "2022-02-26T19:04:29.556Z"
   },
   {
    "duration": 2829,
    "start_time": "2022-02-26T19:04:32.418Z"
   },
   {
    "duration": 2797,
    "start_time": "2022-02-26T19:10:19.150Z"
   },
   {
    "duration": 389,
    "start_time": "2022-02-26T19:10:37.336Z"
   },
   {
    "duration": 1128,
    "start_time": "2022-02-26T19:22:09.180Z"
   },
   {
    "duration": 321,
    "start_time": "2022-02-26T19:22:10.310Z"
   },
   {
    "duration": 21,
    "start_time": "2022-02-26T19:22:10.633Z"
   },
   {
    "duration": 133,
    "start_time": "2022-02-26T19:22:10.656Z"
   },
   {
    "duration": 102,
    "start_time": "2022-02-26T19:22:10.806Z"
   },
   {
    "duration": 317,
    "start_time": "2022-02-26T19:22:10.910Z"
   },
   {
    "duration": 248,
    "start_time": "2022-02-26T19:22:11.229Z"
   },
   {
    "duration": 300,
    "start_time": "2022-02-26T19:22:11.479Z"
   },
   {
    "duration": 805,
    "start_time": "2022-02-26T19:22:11.781Z"
   },
   {
    "duration": 36,
    "start_time": "2022-02-26T19:22:12.588Z"
   },
   {
    "duration": 4,
    "start_time": "2022-02-26T19:22:12.625Z"
   },
   {
    "duration": 10,
    "start_time": "2022-02-26T19:22:12.631Z"
   },
   {
    "duration": 4617,
    "start_time": "2022-02-26T19:22:12.642Z"
   },
   {
    "duration": 453,
    "start_time": "2022-02-26T19:22:17.261Z"
   },
   {
    "duration": 97,
    "start_time": "2022-02-26T19:22:17.716Z"
   },
   {
    "duration": 5,
    "start_time": "2022-02-26T19:22:17.905Z"
   },
   {
    "duration": 5,
    "start_time": "2022-02-26T19:22:17.912Z"
   },
   {
    "duration": 5,
    "start_time": "2022-02-26T19:22:17.918Z"
   },
   {
    "duration": 6,
    "start_time": "2022-02-26T19:22:17.924Z"
   },
   {
    "duration": 20,
    "start_time": "2022-02-26T19:22:17.932Z"
   },
   {
    "duration": 2876,
    "start_time": "2022-02-26T19:22:17.953Z"
   },
   {
    "duration": 2819,
    "start_time": "2022-02-26T19:22:20.831Z"
   },
   {
    "duration": 3018,
    "start_time": "2022-02-26T19:22:23.653Z"
   },
   {
    "duration": 438,
    "start_time": "2022-02-26T19:22:26.672Z"
   },
   {
    "duration": 1547,
    "start_time": "2022-02-27T17:26:08.565Z"
   },
   {
    "duration": 454,
    "start_time": "2022-02-27T17:26:11.657Z"
   },
   {
    "duration": 507,
    "start_time": "2022-02-27T17:26:20.281Z"
   },
   {
    "duration": 10,
    "start_time": "2022-02-27T17:26:29.697Z"
   },
   {
    "duration": 7,
    "start_time": "2022-02-27T17:26:35.829Z"
   },
   {
    "duration": 11,
    "start_time": "2022-02-27T17:27:02.905Z"
   },
   {
    "duration": 11,
    "start_time": "2022-02-27T17:27:05.941Z"
   },
   {
    "duration": 10,
    "start_time": "2022-02-27T17:27:10.871Z"
   },
   {
    "duration": 14,
    "start_time": "2022-02-27T17:27:27.723Z"
   },
   {
    "duration": 14,
    "start_time": "2022-02-27T17:28:01.081Z"
   },
   {
    "duration": 8,
    "start_time": "2022-02-27T17:28:38.776Z"
   },
   {
    "duration": 5,
    "start_time": "2022-02-27T17:28:58.306Z"
   },
   {
    "duration": 10,
    "start_time": "2022-02-27T17:28:58.834Z"
   },
   {
    "duration": 1203,
    "start_time": "2022-02-27T18:12:39.744Z"
   },
   {
    "duration": 352,
    "start_time": "2022-02-27T18:12:40.949Z"
   },
   {
    "duration": 25,
    "start_time": "2022-02-27T18:12:41.305Z"
   },
   {
    "duration": 166,
    "start_time": "2022-02-27T18:12:41.332Z"
   },
   {
    "duration": 128,
    "start_time": "2022-02-27T18:12:41.500Z"
   },
   {
    "duration": 357,
    "start_time": "2022-02-27T18:12:41.630Z"
   },
   {
    "duration": 314,
    "start_time": "2022-02-27T18:12:41.990Z"
   },
   {
    "duration": 339,
    "start_time": "2022-02-27T18:12:42.306Z"
   },
   {
    "duration": 790,
    "start_time": "2022-02-27T18:12:42.647Z"
   },
   {
    "duration": 39,
    "start_time": "2022-02-27T18:12:43.439Z"
   },
   {
    "duration": 5,
    "start_time": "2022-02-27T18:12:43.480Z"
   },
   {
    "duration": 12,
    "start_time": "2022-02-27T18:12:43.486Z"
   },
   {
    "duration": 5293,
    "start_time": "2022-02-27T18:12:43.500Z"
   },
   {
    "duration": 384,
    "start_time": "2022-02-27T18:12:48.795Z"
   },
   {
    "duration": 99,
    "start_time": "2022-02-27T18:12:49.265Z"
   },
   {
    "duration": 16,
    "start_time": "2022-02-27T18:12:49.366Z"
   },
   {
    "duration": 16,
    "start_time": "2022-02-27T18:12:49.384Z"
   },
   {
    "duration": 19,
    "start_time": "2022-02-27T18:12:49.401Z"
   },
   {
    "duration": 12,
    "start_time": "2022-02-27T18:12:49.422Z"
   },
   {
    "duration": 294,
    "start_time": "2022-02-27T18:12:49.436Z"
   },
   {
    "duration": -93,
    "start_time": "2022-02-27T18:12:49.825Z"
   },
   {
    "duration": -94,
    "start_time": "2022-02-27T18:12:49.827Z"
   },
   {
    "duration": -93,
    "start_time": "2022-02-27T18:12:49.828Z"
   },
   {
    "duration": -96,
    "start_time": "2022-02-27T18:12:49.832Z"
   },
   {
    "duration": -96,
    "start_time": "2022-02-27T18:12:49.833Z"
   },
   {
    "duration": -97,
    "start_time": "2022-02-27T18:12:49.835Z"
   },
   {
    "duration": 3,
    "start_time": "2022-02-27T18:13:33.650Z"
   },
   {
    "duration": 192,
    "start_time": "2022-02-27T18:13:55.710Z"
   },
   {
    "duration": 3,
    "start_time": "2022-02-27T18:14:14.211Z"
   },
   {
    "duration": 22,
    "start_time": "2022-02-27T18:23:27.141Z"
   },
   {
    "duration": 1203,
    "start_time": "2022-02-27T18:23:47.356Z"
   },
   {
    "duration": 360,
    "start_time": "2022-02-27T18:23:48.561Z"
   },
   {
    "duration": 24,
    "start_time": "2022-02-27T18:23:48.923Z"
   },
   {
    "duration": 141,
    "start_time": "2022-02-27T18:23:48.963Z"
   },
   {
    "duration": 123,
    "start_time": "2022-02-27T18:23:49.106Z"
   },
   {
    "duration": 344,
    "start_time": "2022-02-27T18:23:49.231Z"
   },
   {
    "duration": 387,
    "start_time": "2022-02-27T18:23:49.576Z"
   },
   {
    "duration": 331,
    "start_time": "2022-02-27T18:23:49.966Z"
   },
   {
    "duration": 825,
    "start_time": "2022-02-27T18:23:50.299Z"
   },
   {
    "duration": 44,
    "start_time": "2022-02-27T18:23:51.125Z"
   },
   {
    "duration": 4,
    "start_time": "2022-02-27T18:23:51.171Z"
   },
   {
    "duration": 5,
    "start_time": "2022-02-27T18:23:51.177Z"
   },
   {
    "duration": 5610,
    "start_time": "2022-02-27T18:23:51.184Z"
   },
   {
    "duration": 386,
    "start_time": "2022-02-27T18:23:56.796Z"
   },
   {
    "duration": 179,
    "start_time": "2022-02-27T18:23:57.184Z"
   },
   {
    "duration": 5,
    "start_time": "2022-02-27T18:23:57.365Z"
   },
   {
    "duration": 7,
    "start_time": "2022-02-27T18:23:57.372Z"
   },
   {
    "duration": 6,
    "start_time": "2022-02-27T18:23:57.381Z"
   },
   {
    "duration": 7,
    "start_time": "2022-02-27T18:23:57.388Z"
   },
   {
    "duration": 24,
    "start_time": "2022-02-27T18:23:57.396Z"
   },
   {
    "duration": 3179,
    "start_time": "2022-02-27T18:23:57.421Z"
   },
   {
    "duration": 3145,
    "start_time": "2022-02-27T18:24:00.602Z"
   },
   {
    "duration": 3177,
    "start_time": "2022-02-27T18:24:03.750Z"
   },
   {
    "duration": 465,
    "start_time": "2022-02-27T18:24:06.929Z"
   },
   {
    "duration": 104,
    "start_time": "2022-02-27T18:40:07.826Z"
   },
   {
    "duration": 1190,
    "start_time": "2022-02-27T18:40:13.985Z"
   },
   {
    "duration": 367,
    "start_time": "2022-02-27T18:40:15.177Z"
   },
   {
    "duration": 28,
    "start_time": "2022-02-27T18:40:15.547Z"
   },
   {
    "duration": 150,
    "start_time": "2022-02-27T18:40:15.576Z"
   },
   {
    "duration": 135,
    "start_time": "2022-02-27T18:40:15.728Z"
   },
   {
    "duration": 359,
    "start_time": "2022-02-27T18:40:15.865Z"
   },
   {
    "duration": 287,
    "start_time": "2022-02-27T18:40:16.226Z"
   },
   {
    "duration": 343,
    "start_time": "2022-02-27T18:40:16.516Z"
   },
   {
    "duration": 813,
    "start_time": "2022-02-27T18:40:16.864Z"
   },
   {
    "duration": 32,
    "start_time": "2022-02-27T18:40:17.679Z"
   },
   {
    "duration": 5,
    "start_time": "2022-02-27T18:40:17.713Z"
   },
   {
    "duration": 43,
    "start_time": "2022-02-27T18:40:17.719Z"
   },
   {
    "duration": 5527,
    "start_time": "2022-02-27T18:40:17.764Z"
   },
   {
    "duration": 380,
    "start_time": "2022-02-27T18:40:23.293Z"
   },
   {
    "duration": 92,
    "start_time": "2022-02-27T18:40:23.676Z"
   },
   {
    "duration": 102,
    "start_time": "2022-02-27T18:40:23.770Z"
   },
   {
    "duration": 11,
    "start_time": "2022-02-27T18:40:23.874Z"
   },
   {
    "duration": 5,
    "start_time": "2022-02-27T18:40:23.887Z"
   },
   {
    "duration": 7,
    "start_time": "2022-02-27T18:40:23.894Z"
   },
   {
    "duration": 72,
    "start_time": "2022-02-27T18:40:23.903Z"
   },
   {
    "duration": 104,
    "start_time": "2022-02-27T18:40:23.874Z"
   },
   {
    "duration": 101,
    "start_time": "2022-02-27T18:40:23.878Z"
   },
   {
    "duration": 100,
    "start_time": "2022-02-27T18:40:23.880Z"
   },
   {
    "duration": 98,
    "start_time": "2022-02-27T18:40:23.884Z"
   },
   {
    "duration": 97,
    "start_time": "2022-02-27T18:40:23.887Z"
   },
   {
    "duration": 98,
    "start_time": "2022-02-27T18:40:23.888Z"
   },
   {
    "duration": 98,
    "start_time": "2022-02-27T18:40:23.889Z"
   },
   {
    "duration": 99,
    "start_time": "2022-02-27T18:40:23.890Z"
   },
   {
    "duration": 295,
    "start_time": "2022-02-27T18:40:35.228Z"
   },
   {
    "duration": 253,
    "start_time": "2022-02-27T18:40:36.903Z"
   },
   {
    "duration": 413,
    "start_time": "2022-02-27T18:40:37.820Z"
   },
   {
    "duration": 200,
    "start_time": "2022-02-27T18:40:52.761Z"
   },
   {
    "duration": 1191,
    "start_time": "2022-02-27T18:41:15.379Z"
   },
   {
    "duration": 419,
    "start_time": "2022-02-27T18:41:16.572Z"
   },
   {
    "duration": 24,
    "start_time": "2022-02-27T18:41:16.993Z"
   },
   {
    "duration": 167,
    "start_time": "2022-02-27T18:41:17.019Z"
   },
   {
    "duration": 117,
    "start_time": "2022-02-27T18:41:17.188Z"
   },
   {
    "duration": 380,
    "start_time": "2022-02-27T18:41:17.307Z"
   },
   {
    "duration": 287,
    "start_time": "2022-02-27T18:41:17.689Z"
   },
   {
    "duration": 341,
    "start_time": "2022-02-27T18:41:17.980Z"
   },
   {
    "duration": 979,
    "start_time": "2022-02-27T18:41:18.323Z"
   },
   {
    "duration": 30,
    "start_time": "2022-02-27T18:41:19.304Z"
   },
   {
    "duration": 5,
    "start_time": "2022-02-27T18:41:19.336Z"
   },
   {
    "duration": 21,
    "start_time": "2022-02-27T18:41:19.342Z"
   },
   {
    "duration": 5568,
    "start_time": "2022-02-27T18:41:19.365Z"
   },
   {
    "duration": 439,
    "start_time": "2022-02-27T18:41:24.935Z"
   },
   {
    "duration": 104,
    "start_time": "2022-02-27T18:41:25.464Z"
   },
   {
    "duration": 12,
    "start_time": "2022-02-27T18:41:25.570Z"
   },
   {
    "duration": 7,
    "start_time": "2022-02-27T18:41:25.584Z"
   },
   {
    "duration": 10,
    "start_time": "2022-02-27T18:41:25.593Z"
   },
   {
    "duration": 6,
    "start_time": "2022-02-27T18:41:25.604Z"
   },
   {
    "duration": 68,
    "start_time": "2022-02-27T18:41:25.612Z"
   },
   {
    "duration": 118,
    "start_time": "2022-02-27T18:41:25.564Z"
   },
   {
    "duration": 115,
    "start_time": "2022-02-27T18:41:25.568Z"
   },
   {
    "duration": 114,
    "start_time": "2022-02-27T18:41:25.570Z"
   },
   {
    "duration": 114,
    "start_time": "2022-02-27T18:41:25.571Z"
   },
   {
    "duration": 111,
    "start_time": "2022-02-27T18:41:25.575Z"
   },
   {
    "duration": 68,
    "start_time": "2022-02-27T18:43:29.036Z"
   },
   {
    "duration": 65,
    "start_time": "2022-02-27T18:43:33.238Z"
   },
   {
    "duration": 1184,
    "start_time": "2022-02-27T18:43:42.979Z"
   },
   {
    "duration": 346,
    "start_time": "2022-02-27T18:43:44.165Z"
   },
   {
    "duration": 25,
    "start_time": "2022-02-27T18:43:44.513Z"
   },
   {
    "duration": 175,
    "start_time": "2022-02-27T18:43:44.540Z"
   },
   {
    "duration": 130,
    "start_time": "2022-02-27T18:43:44.717Z"
   },
   {
    "duration": 458,
    "start_time": "2022-02-27T18:43:44.848Z"
   },
   {
    "duration": 281,
    "start_time": "2022-02-27T18:43:45.308Z"
   },
   {
    "duration": 339,
    "start_time": "2022-02-27T18:43:45.591Z"
   },
   {
    "duration": 805,
    "start_time": "2022-02-27T18:43:45.932Z"
   },
   {
    "duration": 39,
    "start_time": "2022-02-27T18:43:46.739Z"
   },
   {
    "duration": 4,
    "start_time": "2022-02-27T18:43:46.780Z"
   },
   {
    "duration": 15,
    "start_time": "2022-02-27T18:43:46.785Z"
   },
   {
    "duration": 5317,
    "start_time": "2022-02-27T18:43:46.802Z"
   },
   {
    "duration": 454,
    "start_time": "2022-02-27T18:43:52.121Z"
   },
   {
    "duration": 188,
    "start_time": "2022-02-27T18:43:52.577Z"
   },
   {
    "duration": 4,
    "start_time": "2022-02-27T18:43:52.767Z"
   },
   {
    "duration": 5,
    "start_time": "2022-02-27T18:43:52.773Z"
   },
   {
    "duration": 5,
    "start_time": "2022-02-27T18:43:52.780Z"
   },
   {
    "duration": 4,
    "start_time": "2022-02-27T18:43:52.786Z"
   },
   {
    "duration": 77,
    "start_time": "2022-02-27T18:43:52.792Z"
   },
   {
    "duration": 109,
    "start_time": "2022-02-27T18:43:52.762Z"
   },
   {
    "duration": 110,
    "start_time": "2022-02-27T18:43:52.763Z"
   },
   {
    "duration": 110,
    "start_time": "2022-02-27T18:43:52.764Z"
   },
   {
    "duration": 109,
    "start_time": "2022-02-27T18:43:52.765Z"
   },
   {
    "duration": 110,
    "start_time": "2022-02-27T18:43:52.766Z"
   },
   {
    "duration": 10,
    "start_time": "2022-02-27T18:44:02.976Z"
   },
   {
    "duration": 10,
    "start_time": "2022-02-27T18:44:21.694Z"
   },
   {
    "duration": 10,
    "start_time": "2022-02-27T18:44:25.539Z"
   },
   {
    "duration": 295,
    "start_time": "2022-02-27T18:58:08.010Z"
   },
   {
    "duration": 280,
    "start_time": "2022-02-27T18:58:44.531Z"
   },
   {
    "duration": 10,
    "start_time": "2022-02-27T18:59:15.723Z"
   },
   {
    "duration": 197,
    "start_time": "2022-02-27T18:59:33.791Z"
   },
   {
    "duration": 5,
    "start_time": "2022-02-27T19:03:20.189Z"
   },
   {
    "duration": 5,
    "start_time": "2022-02-27T19:08:32.765Z"
   },
   {
    "duration": 267,
    "start_time": "2022-02-27T19:26:07.298Z"
   },
   {
    "duration": 320,
    "start_time": "2022-02-27T19:26:14.390Z"
   },
   {
    "duration": 1150,
    "start_time": "2022-02-27T19:30:52.123Z"
   },
   {
    "duration": 360,
    "start_time": "2022-02-27T19:30:53.275Z"
   },
   {
    "duration": 26,
    "start_time": "2022-02-27T19:30:53.637Z"
   },
   {
    "duration": 148,
    "start_time": "2022-02-27T19:30:53.665Z"
   },
   {
    "duration": 130,
    "start_time": "2022-02-27T19:30:53.815Z"
   },
   {
    "duration": 360,
    "start_time": "2022-02-27T19:30:53.947Z"
   },
   {
    "duration": 289,
    "start_time": "2022-02-27T19:30:54.309Z"
   },
   {
    "duration": 332,
    "start_time": "2022-02-27T19:30:54.600Z"
   },
   {
    "duration": 808,
    "start_time": "2022-02-27T19:30:54.935Z"
   },
   {
    "duration": 38,
    "start_time": "2022-02-27T19:30:55.745Z"
   },
   {
    "duration": 4,
    "start_time": "2022-02-27T19:30:55.785Z"
   },
   {
    "duration": 9,
    "start_time": "2022-02-27T19:30:55.790Z"
   },
   {
    "duration": 5326,
    "start_time": "2022-02-27T19:30:55.801Z"
   },
   {
    "duration": 454,
    "start_time": "2022-02-27T19:31:01.129Z"
   },
   {
    "duration": 99,
    "start_time": "2022-02-27T19:31:01.665Z"
   },
   {
    "duration": 10,
    "start_time": "2022-02-27T19:31:01.766Z"
   },
   {
    "duration": 23,
    "start_time": "2022-02-27T19:31:01.778Z"
   },
   {
    "duration": 23,
    "start_time": "2022-02-27T19:31:01.802Z"
   },
   {
    "duration": 7,
    "start_time": "2022-02-27T19:31:01.827Z"
   },
   {
    "duration": 13,
    "start_time": "2022-02-27T19:31:01.836Z"
   },
   {
    "duration": 47,
    "start_time": "2022-02-27T19:31:01.851Z"
   },
   {
    "duration": 3263,
    "start_time": "2022-02-27T19:31:01.900Z"
   },
   {
    "duration": 3225,
    "start_time": "2022-02-27T19:31:05.165Z"
   },
   {
    "duration": 3207,
    "start_time": "2022-02-27T19:31:08.392Z"
   },
   {
    "duration": 478,
    "start_time": "2022-02-27T19:31:11.601Z"
   },
   {
    "duration": 5,
    "start_time": "2022-02-27T19:31:32.816Z"
   },
   {
    "duration": 8,
    "start_time": "2022-02-27T19:35:52.453Z"
   },
   {
    "duration": 12,
    "start_time": "2022-02-27T19:37:17.404Z"
   },
   {
    "duration": 10,
    "start_time": "2022-02-27T19:37:50.792Z"
   },
   {
    "duration": 394,
    "start_time": "2022-02-27T19:39:20.176Z"
   },
   {
    "duration": 3,
    "start_time": "2022-02-27T19:39:31.608Z"
   },
   {
    "duration": 204,
    "start_time": "2022-02-27T19:39:36.690Z"
   },
   {
    "duration": 204,
    "start_time": "2022-02-27T19:40:30.388Z"
   },
   {
    "duration": 10,
    "start_time": "2022-02-27T19:53:48.332Z"
   },
   {
    "duration": 12,
    "start_time": "2022-02-27T19:54:31.166Z"
   },
   {
    "duration": 1235,
    "start_time": "2022-02-27T19:56:42.128Z"
   },
   {
    "duration": 374,
    "start_time": "2022-02-27T19:56:43.365Z"
   },
   {
    "duration": 26,
    "start_time": "2022-02-27T19:56:43.741Z"
   },
   {
    "duration": 146,
    "start_time": "2022-02-27T19:56:43.769Z"
   },
   {
    "duration": 119,
    "start_time": "2022-02-27T19:56:43.917Z"
   },
   {
    "duration": 341,
    "start_time": "2022-02-27T19:56:44.037Z"
   },
   {
    "duration": 291,
    "start_time": "2022-02-27T19:56:44.380Z"
   },
   {
    "duration": 333,
    "start_time": "2022-02-27T19:56:44.673Z"
   },
   {
    "duration": 831,
    "start_time": "2022-02-27T19:56:45.009Z"
   },
   {
    "duration": 41,
    "start_time": "2022-02-27T19:56:45.842Z"
   },
   {
    "duration": 5,
    "start_time": "2022-02-27T19:56:45.885Z"
   },
   {
    "duration": 8,
    "start_time": "2022-02-27T19:56:45.892Z"
   },
   {
    "duration": 5472,
    "start_time": "2022-02-27T19:56:45.902Z"
   },
   {
    "duration": 402,
    "start_time": "2022-02-27T19:56:51.376Z"
   },
   {
    "duration": 99,
    "start_time": "2022-02-27T19:56:51.865Z"
   },
   {
    "duration": 10,
    "start_time": "2022-02-27T19:56:51.966Z"
   },
   {
    "duration": 8,
    "start_time": "2022-02-27T19:56:51.978Z"
   },
   {
    "duration": 5,
    "start_time": "2022-02-27T19:56:51.987Z"
   },
   {
    "duration": 4,
    "start_time": "2022-02-27T19:56:51.993Z"
   },
   {
    "duration": 6,
    "start_time": "2022-02-27T19:56:51.999Z"
   },
   {
    "duration": 23,
    "start_time": "2022-02-27T19:56:52.006Z"
   },
   {
    "duration": 3200,
    "start_time": "2022-02-27T19:56:52.030Z"
   },
   {
    "duration": 3218,
    "start_time": "2022-02-27T19:56:55.232Z"
   },
   {
    "duration": 3221,
    "start_time": "2022-02-27T19:56:58.452Z"
   },
   {
    "duration": 470,
    "start_time": "2022-02-27T19:57:01.675Z"
   },
   {
    "duration": 5,
    "start_time": "2022-02-27T20:15:52.860Z"
   },
   {
    "duration": 1174,
    "start_time": "2022-02-27T20:18:02.628Z"
   },
   {
    "duration": 366,
    "start_time": "2022-02-27T20:18:03.804Z"
   },
   {
    "duration": 27,
    "start_time": "2022-02-27T20:18:04.173Z"
   },
   {
    "duration": 173,
    "start_time": "2022-02-27T20:18:04.202Z"
   },
   {
    "duration": 128,
    "start_time": "2022-02-27T20:18:04.377Z"
   },
   {
    "duration": 346,
    "start_time": "2022-02-27T20:18:04.507Z"
   },
   {
    "duration": 281,
    "start_time": "2022-02-27T20:18:04.854Z"
   },
   {
    "duration": 339,
    "start_time": "2022-02-27T20:18:05.139Z"
   },
   {
    "duration": 907,
    "start_time": "2022-02-27T20:18:05.480Z"
   },
   {
    "duration": 29,
    "start_time": "2022-02-27T20:18:06.388Z"
   },
   {
    "duration": 4,
    "start_time": "2022-02-27T20:18:06.419Z"
   },
   {
    "duration": 12,
    "start_time": "2022-02-27T20:18:06.425Z"
   },
   {
    "duration": 5425,
    "start_time": "2022-02-27T20:18:06.438Z"
   },
   {
    "duration": 418,
    "start_time": "2022-02-27T20:18:11.864Z"
   },
   {
    "duration": 100,
    "start_time": "2022-02-27T20:18:12.364Z"
   },
   {
    "duration": 5,
    "start_time": "2022-02-27T20:18:12.466Z"
   },
   {
    "duration": 7,
    "start_time": "2022-02-27T20:18:12.472Z"
   },
   {
    "duration": 6,
    "start_time": "2022-02-27T20:18:12.480Z"
   },
   {
    "duration": 4,
    "start_time": "2022-02-27T20:18:12.488Z"
   },
   {
    "duration": 6,
    "start_time": "2022-02-27T20:18:12.493Z"
   },
   {
    "duration": 6,
    "start_time": "2022-02-27T20:18:12.501Z"
   },
   {
    "duration": 21,
    "start_time": "2022-02-27T20:18:12.509Z"
   },
   {
    "duration": 3233,
    "start_time": "2022-02-27T20:18:12.533Z"
   },
   {
    "duration": 3201,
    "start_time": "2022-02-27T20:18:15.769Z"
   },
   {
    "duration": 3322,
    "start_time": "2022-02-27T20:18:18.972Z"
   },
   {
    "duration": 450,
    "start_time": "2022-02-27T20:18:22.296Z"
   },
   {
    "duration": 383,
    "start_time": "2022-02-27T20:19:49.514Z"
   },
   {
    "duration": 241,
    "start_time": "2022-02-27T20:25:18.142Z"
   },
   {
    "duration": 1209,
    "start_time": "2022-02-27T20:30:05.534Z"
   },
   {
    "duration": 372,
    "start_time": "2022-02-27T20:30:06.745Z"
   },
   {
    "duration": 24,
    "start_time": "2022-02-27T20:30:07.119Z"
   },
   {
    "duration": 158,
    "start_time": "2022-02-27T20:30:07.145Z"
   },
   {
    "duration": 131,
    "start_time": "2022-02-27T20:30:07.305Z"
   },
   {
    "duration": 384,
    "start_time": "2022-02-27T20:30:07.438Z"
   },
   {
    "duration": 302,
    "start_time": "2022-02-27T20:30:07.823Z"
   },
   {
    "duration": 342,
    "start_time": "2022-02-27T20:30:08.127Z"
   },
   {
    "duration": 804,
    "start_time": "2022-02-27T20:30:08.471Z"
   },
   {
    "duration": 33,
    "start_time": "2022-02-27T20:30:09.276Z"
   },
   {
    "duration": 4,
    "start_time": "2022-02-27T20:30:09.311Z"
   },
   {
    "duration": 26,
    "start_time": "2022-02-27T20:30:09.317Z"
   },
   {
    "duration": 5680,
    "start_time": "2022-02-27T20:30:09.345Z"
   },
   {
    "duration": 454,
    "start_time": "2022-02-27T20:30:15.027Z"
   },
   {
    "duration": 181,
    "start_time": "2022-02-27T20:30:15.483Z"
   },
   {
    "duration": 8,
    "start_time": "2022-02-27T20:30:15.666Z"
   },
   {
    "duration": 6,
    "start_time": "2022-02-27T20:30:15.675Z"
   },
   {
    "duration": 8,
    "start_time": "2022-02-27T20:30:15.683Z"
   },
   {
    "duration": 5,
    "start_time": "2022-02-27T20:30:15.693Z"
   },
   {
    "duration": 5,
    "start_time": "2022-02-27T20:30:15.700Z"
   },
   {
    "duration": 23,
    "start_time": "2022-02-27T20:30:15.708Z"
   },
   {
    "duration": 3205,
    "start_time": "2022-02-27T20:30:15.733Z"
   },
   {
    "duration": 3386,
    "start_time": "2022-02-27T20:30:18.941Z"
   },
   {
    "duration": 3330,
    "start_time": "2022-02-27T20:30:22.329Z"
   },
   {
    "duration": 464,
    "start_time": "2022-02-27T20:30:25.663Z"
   },
   {
    "duration": 10,
    "start_time": "2022-02-27T21:03:23.713Z"
   },
   {
    "duration": 432,
    "start_time": "2022-02-27T21:03:24.411Z"
   },
   {
    "duration": 509,
    "start_time": "2022-02-27T21:03:32.778Z"
   },
   {
    "duration": 14,
    "start_time": "2022-02-27T21:03:54.483Z"
   },
   {
    "duration": 13,
    "start_time": "2022-02-27T21:04:14.250Z"
   },
   {
    "duration": 15,
    "start_time": "2022-02-27T21:04:23.940Z"
   },
   {
    "duration": 15,
    "start_time": "2022-02-27T21:05:42.557Z"
   },
   {
    "duration": 7,
    "start_time": "2022-02-27T21:06:02.454Z"
   },
   {
    "duration": 12,
    "start_time": "2022-02-27T21:06:10.683Z"
   },
   {
    "duration": 15,
    "start_time": "2022-02-27T21:06:47.035Z"
   }
  ],
  "kernelspec": {
   "display_name": "Python 3",
   "language": "python",
   "name": "python3"
  },
  "language_info": {
   "codemirror_mode": {
    "name": "ipython",
    "version": 3
   },
   "file_extension": ".py",
   "mimetype": "text/x-python",
   "name": "python",
   "nbconvert_exporter": "python",
   "pygments_lexer": "ipython3",
   "version": "3.8.8"
  },
  "toc": {
   "base_numbering": 1,
   "nav_menu": {},
   "number_sections": true,
   "sideBar": true,
   "skip_h1_title": true,
   "title_cell": "Table of Contents",
   "title_sidebar": "Contents",
   "toc_cell": false,
   "toc_position": {},
   "toc_section_display": true,
   "toc_window_display": false
  }
 },
 "nbformat": 4,
 "nbformat_minor": 2
}
